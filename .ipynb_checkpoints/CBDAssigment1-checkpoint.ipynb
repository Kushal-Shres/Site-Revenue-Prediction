{
 "cells": [
  {
   "cell_type": "code",
   "execution_count": 2,
   "id": "f46351f0",
   "metadata": {},
   "outputs": [],
   "source": [
    "import pandas as pd\n",
    "import numpy as np\n",
    "import seaborn as sns\n",
    "import matplotlib.pyplot as plt"
   ]
  },
  {
   "cell_type": "markdown",
   "id": "b9a246cf",
   "metadata": {},
   "source": [
    "# Data Extraction\n"
   ]
  },
  {
   "cell_type": "code",
   "execution_count": 3,
   "id": "a8ded5b7",
   "metadata": {},
   "outputs": [
    {
     "name": "stderr",
     "output_type": "stream",
     "text": [
      "/var/folders/n_/52plsjdj0txb6y7mjnr8m4s80000gn/T/ipykernel_5650/2456385729.py:1: DtypeWarning: Columns (4,10,12,14,15,19,20,21,22,23,24,25,26,27,28,29,30,31,32,33,34,35,36,37,38,39) have mixed types. Specify dtype option on import or set low_memory=False.\n",
      "  df_energy=pd.read_csv('energy/NYC_Energy_Water_Data.csv')\n"
     ]
    }
   ],
   "source": [
    "df_energy=pd.read_csv('energy/NYC_Energy_Water_Data.csv')"
   ]
  },
  {
   "cell_type": "code",
   "execution_count": 4,
   "id": "36cecf71",
   "metadata": {},
   "outputs": [
    {
     "data": {
      "text/html": [
       "<div>\n",
       "<style scoped>\n",
       "    .dataframe tbody tr th:only-of-type {\n",
       "        vertical-align: middle;\n",
       "    }\n",
       "\n",
       "    .dataframe tbody tr th {\n",
       "        vertical-align: top;\n",
       "    }\n",
       "\n",
       "    .dataframe thead th {\n",
       "        text-align: right;\n",
       "    }\n",
       "</style>\n",
       "<table border=\"1\" class=\"dataframe\">\n",
       "  <thead>\n",
       "    <tr style=\"text-align: right;\">\n",
       "      <th></th>\n",
       "      <th>Order</th>\n",
       "      <th>Property Name</th>\n",
       "      <th>Parent Property Id</th>\n",
       "      <th>Parent Property Name</th>\n",
       "      <th>Street Number</th>\n",
       "      <th>Street Name</th>\n",
       "      <th>Borough</th>\n",
       "      <th>Primary Property Type - Self Selected</th>\n",
       "      <th>List of All Property Use Types at Property</th>\n",
       "      <th>Largest Property Use Type</th>\n",
       "      <th>...</th>\n",
       "      <th>District Steam Use (kBtu)</th>\n",
       "      <th>Natural Gas Use (kBtu)</th>\n",
       "      <th>Weather Normalized Site Natural Gas Use (therms)</th>\n",
       "      <th>Electricity Use - Grid Purchase (kBtu)</th>\n",
       "      <th>Weather Normalized Site Electricity (kWh)</th>\n",
       "      <th>Total GHG Emissions (Metric Tons CO2e)</th>\n",
       "      <th>Direct GHG Emissions (Metric Tons CO2e)</th>\n",
       "      <th>Indirect GHG Emissions (Metric Tons CO2e)</th>\n",
       "      <th>Water Use (All Water Sources) (kgal)</th>\n",
       "      <th>DOF Benchmarking Submission Status</th>\n",
       "    </tr>\n",
       "  </thead>\n",
       "  <tbody>\n",
       "    <tr>\n",
       "      <th>0</th>\n",
       "      <td>1</td>\n",
       "      <td>The Argonaut Building</td>\n",
       "      <td>NaN</td>\n",
       "      <td>NaN</td>\n",
       "      <td>Not found</td>\n",
       "      <td>Not found</td>\n",
       "      <td>Manhattan</td>\n",
       "      <td>Office</td>\n",
       "      <td>Bank Branch, Office</td>\n",
       "      <td>Office</td>\n",
       "      <td>...</td>\n",
       "      <td>1133475.1</td>\n",
       "      <td>1435754.7</td>\n",
       "      <td>16672.2</td>\n",
       "      <td>6551394.1</td>\n",
       "      <td>1920103.6</td>\n",
       "      <td>732.4</td>\n",
       "      <td>76.3</td>\n",
       "      <td>656.1</td>\n",
       "      <td>3635.5</td>\n",
       "      <td>Not found</td>\n",
       "    </tr>\n",
       "    <tr>\n",
       "      <th>1</th>\n",
       "      <td>3</td>\n",
       "      <td>Cathedral Preparatory Seminary</td>\n",
       "      <td>NaN</td>\n",
       "      <td>NaN</td>\n",
       "      <td>Not found</td>\n",
       "      <td>Not found</td>\n",
       "      <td>Queens</td>\n",
       "      <td>K-12 School</td>\n",
       "      <td>K-12 School</td>\n",
       "      <td>K-12 School</td>\n",
       "      <td>...</td>\n",
       "      <td>NaN</td>\n",
       "      <td>2068300.1</td>\n",
       "      <td>23243.7</td>\n",
       "      <td>616343.7</td>\n",
       "      <td>184131.9</td>\n",
       "      <td>164.5</td>\n",
       "      <td>109.9</td>\n",
       "      <td>54.6</td>\n",
       "      <td>102.9</td>\n",
       "      <td>Not found</td>\n",
       "    </tr>\n",
       "    <tr>\n",
       "      <th>2</th>\n",
       "      <td>4</td>\n",
       "      <td>The Nomad Hotel</td>\n",
       "      <td>NaN</td>\n",
       "      <td>NaN</td>\n",
       "      <td>Not found</td>\n",
       "      <td>Not found</td>\n",
       "      <td>Manhattan</td>\n",
       "      <td>Hotel</td>\n",
       "      <td>Hotel</td>\n",
       "      <td>Hotel</td>\n",
       "      <td>...</td>\n",
       "      <td>NaN</td>\n",
       "      <td>8245445.1</td>\n",
       "      <td>86776.9</td>\n",
       "      <td>8033914.4</td>\n",
       "      <td>2354605.3</td>\n",
       "      <td>1150.2</td>\n",
       "      <td>438.0</td>\n",
       "      <td>712.3</td>\n",
       "      <td>10762.6</td>\n",
       "      <td>Not found</td>\n",
       "    </tr>\n",
       "    <tr>\n",
       "      <th>3</th>\n",
       "      <td>5</td>\n",
       "      <td>10 West 27 Street Corp</td>\n",
       "      <td>NaN</td>\n",
       "      <td>NaN</td>\n",
       "      <td>Not found</td>\n",
       "      <td>Not found</td>\n",
       "      <td>Manhattan</td>\n",
       "      <td>Hotel</td>\n",
       "      <td>Hotel</td>\n",
       "      <td>Hotel</td>\n",
       "      <td>...</td>\n",
       "      <td>NaN</td>\n",
       "      <td>1848519.4</td>\n",
       "      <td>20520.9</td>\n",
       "      <td>1976691.9</td>\n",
       "      <td>582516.1</td>\n",
       "      <td>273.4</td>\n",
       "      <td>98.2</td>\n",
       "      <td>175.3</td>\n",
       "      <td>790.1</td>\n",
       "      <td>Not found</td>\n",
       "    </tr>\n",
       "    <tr>\n",
       "      <th>4</th>\n",
       "      <td>6</td>\n",
       "      <td>Westbury Realty</td>\n",
       "      <td>NaN</td>\n",
       "      <td>NaN</td>\n",
       "      <td>Not found</td>\n",
       "      <td>Not found</td>\n",
       "      <td>Manhattan</td>\n",
       "      <td>Hotel</td>\n",
       "      <td>Hotel</td>\n",
       "      <td>Hotel</td>\n",
       "      <td>...</td>\n",
       "      <td>NaN</td>\n",
       "      <td>NaN</td>\n",
       "      <td>NaN</td>\n",
       "      <td>1022951.6</td>\n",
       "      <td>299809.9</td>\n",
       "      <td>90.7</td>\n",
       "      <td>0.0</td>\n",
       "      <td>90.7</td>\n",
       "      <td>143.0</td>\n",
       "      <td>Not found</td>\n",
       "    </tr>\n",
       "  </tbody>\n",
       "</table>\n",
       "<p>5 rows × 41 columns</p>\n",
       "</div>"
      ],
      "text/plain": [
       "   Order                   Property Name Parent Property Id  \\\n",
       "0      1           The Argonaut Building                NaN   \n",
       "1      3  Cathedral Preparatory Seminary                NaN   \n",
       "2      4                 The Nomad Hotel                NaN   \n",
       "3      5          10 West 27 Street Corp                NaN   \n",
       "4      6                 Westbury Realty                NaN   \n",
       "\n",
       "  Parent Property Name Street Number Street Name    Borough  \\\n",
       "0                  NaN     Not found   Not found  Manhattan   \n",
       "1                  NaN     Not found   Not found     Queens   \n",
       "2                  NaN     Not found   Not found  Manhattan   \n",
       "3                  NaN     Not found   Not found  Manhattan   \n",
       "4                  NaN     Not found   Not found  Manhattan   \n",
       "\n",
       "  Primary Property Type - Self Selected  \\\n",
       "0                                Office   \n",
       "1                           K-12 School   \n",
       "2                                 Hotel   \n",
       "3                                 Hotel   \n",
       "4                                 Hotel   \n",
       "\n",
       "  List of All Property Use Types at Property Largest Property Use Type  ...  \\\n",
       "0                        Bank Branch, Office                    Office  ...   \n",
       "1                                K-12 School               K-12 School  ...   \n",
       "2                                      Hotel                     Hotel  ...   \n",
       "3                                      Hotel                     Hotel  ...   \n",
       "4                                      Hotel                     Hotel  ...   \n",
       "\n",
       "  District Steam Use (kBtu) Natural Gas Use (kBtu)  \\\n",
       "0                 1133475.1              1435754.7   \n",
       "1                       NaN              2068300.1   \n",
       "2                       NaN              8245445.1   \n",
       "3                       NaN              1848519.4   \n",
       "4                       NaN                    NaN   \n",
       "\n",
       "  Weather Normalized Site Natural Gas Use (therms)  \\\n",
       "0                                          16672.2   \n",
       "1                                          23243.7   \n",
       "2                                          86776.9   \n",
       "3                                          20520.9   \n",
       "4                                              NaN   \n",
       "\n",
       "  Electricity Use - Grid Purchase (kBtu)  \\\n",
       "0                              6551394.1   \n",
       "1                               616343.7   \n",
       "2                              8033914.4   \n",
       "3                              1976691.9   \n",
       "4                              1022951.6   \n",
       "\n",
       "  Weather Normalized Site Electricity (kWh)  \\\n",
       "0                                 1920103.6   \n",
       "1                                  184131.9   \n",
       "2                                 2354605.3   \n",
       "3                                  582516.1   \n",
       "4                                  299809.9   \n",
       "\n",
       "  Total GHG Emissions (Metric Tons CO2e)  \\\n",
       "0                                  732.4   \n",
       "1                                  164.5   \n",
       "2                                 1150.2   \n",
       "3                                  273.4   \n",
       "4                                   90.7   \n",
       "\n",
       "   Direct GHG Emissions (Metric Tons CO2e)  \\\n",
       "0                                     76.3   \n",
       "1                                    109.9   \n",
       "2                                    438.0   \n",
       "3                                     98.2   \n",
       "4                                      0.0   \n",
       "\n",
       "  Indirect GHG Emissions (Metric Tons CO2e)  \\\n",
       "0                                     656.1   \n",
       "1                                      54.6   \n",
       "2                                     712.3   \n",
       "3                                     175.3   \n",
       "4                                      90.7   \n",
       "\n",
       "  Water Use (All Water Sources) (kgal) DOF Benchmarking Submission Status  \n",
       "0                               3635.5                          Not found  \n",
       "1                                102.9                          Not found  \n",
       "2                              10762.6                          Not found  \n",
       "3                                790.1                          Not found  \n",
       "4                                143.0                          Not found  \n",
       "\n",
       "[5 rows x 41 columns]"
      ]
     },
     "execution_count": 4,
     "metadata": {},
     "output_type": "execute_result"
    }
   ],
   "source": [
    "df_energy.head()"
   ]
  },
  {
   "cell_type": "code",
   "execution_count": 5,
   "id": "6b0ba4a2",
   "metadata": {},
   "outputs": [
    {
     "name": "stdout",
     "output_type": "stream",
     "text": [
      "<class 'pandas.core.frame.DataFrame'>\n",
      "RangeIndex: 59324 entries, 0 to 59323\n",
      "Data columns (total 41 columns):\n",
      " #   Column                                                      Non-Null Count  Dtype  \n",
      "---  ------                                                      --------------  -----  \n",
      " 0   Order                                                       59324 non-null  int64  \n",
      " 1   Property Name                                               57632 non-null  object \n",
      " 2   Parent Property Id                                          25000 non-null  object \n",
      " 3   Parent Property Name                                        25000 non-null  object \n",
      " 4   Street Number                                               56357 non-null  object \n",
      " 5   Street Name                                                 59202 non-null  object \n",
      " 6   Borough                                                     59206 non-null  object \n",
      " 7   Primary Property Type - Self Selected                       58079 non-null  object \n",
      " 8   List of All Property Use Types at Property                  58066 non-null  object \n",
      " 9   Largest Property Use Type                                   58047 non-null  object \n",
      " 10  Largest Property Use Type - Gross Floor Area (ft²)          57596 non-null  object \n",
      " 11  2nd Largest Property Use Type                               30950 non-null  object \n",
      " 12  2nd Largest Property Use - Gross Floor Area (ft²)           30950 non-null  object \n",
      " 13  3rd Largest Property Use Type                               26174 non-null  object \n",
      " 14  3rd Largest Property Use Type - Gross Floor Area (ft²)      26174 non-null  object \n",
      " 15  Year Built                                                  58079 non-null  object \n",
      " 16  Occupancy                                                   57632 non-null  float64\n",
      " 17  Metered Areas (Energy)                                      55434 non-null  object \n",
      " 18  Metered Areas  (Water)                                      38270 non-null  object \n",
      " 19  ENERGY STAR Score                                           46735 non-null  object \n",
      " 20  Source EUI (kBtu/ft²)                                       55073 non-null  object \n",
      " 21  Weather Normalized Source EUI (kBtu/ft²)                    50154 non-null  object \n",
      " 22  Site EUI (kBtu/ft²)                                         55073 non-null  object \n",
      " 23  Weather Normalized Site EUI (kBtu/ft²)                      50154 non-null  object \n",
      " 24  Weather Normalized Site Electricity Intensity (kWh/ft²)     53842 non-null  object \n",
      " 25  Weather Normalized Site Natural Gas Intensity (therms/ft²)  49251 non-null  object \n",
      " 26  Fuel Oil #1 Use (kBtu)                                      23760 non-null  object \n",
      " 27  Fuel Oil #2 Use (kBtu)                                      29388 non-null  object \n",
      " 28  Fuel Oil #4 Use (kBtu)                                      26102 non-null  object \n",
      " 29  Fuel Oil #5 & 6 Use (kBtu)                                  24208 non-null  object \n",
      " 30  Diesel #2 Use (kBtu)                                        23794 non-null  object \n",
      " 31  District Steam Use (kBtu)                                   25292 non-null  object \n",
      " 32  Natural Gas Use (kBtu)                                      50652 non-null  object \n",
      " 33  Weather Normalized Site Natural Gas Use (therms)            49258 non-null  object \n",
      " 34  Electricity Use - Grid Purchase (kBtu)                      54747 non-null  object \n",
      " 35  Weather Normalized Site Electricity (kWh)                   53856 non-null  object \n",
      " 36  Total GHG Emissions (Metric Tons CO2e)                      56181 non-null  object \n",
      " 37  Direct GHG Emissions (Metric Tons CO2e)                     56333 non-null  object \n",
      " 38  Indirect GHG Emissions (Metric Tons CO2e)                   56329 non-null  object \n",
      " 39  Water Use (All Water Sources) (kgal)                        37291 non-null  object \n",
      " 40  DOF Benchmarking Submission Status                          59294 non-null  object \n",
      "dtypes: float64(1), int64(1), object(39)\n",
      "memory usage: 18.6+ MB\n"
     ]
    }
   ],
   "source": [
    "df_energy.info()"
   ]
  },
  {
   "cell_type": "code",
   "execution_count": 7,
   "id": "db2751a8",
   "metadata": {},
   "outputs": [
    {
     "data": {
      "text/plain": [
       "Order                                                             0\n",
       "Property Name                                                  1692\n",
       "Parent Property Id                                            34324\n",
       "Parent Property Name                                          34324\n",
       "Street Number                                                  2967\n",
       "Street Name                                                     122\n",
       "Borough                                                         118\n",
       "Primary Property Type - Self Selected                          1245\n",
       "List of All Property Use Types at Property                     1258\n",
       "Largest Property Use Type                                      1277\n",
       "Largest Property Use Type - Gross Floor Area (ft²)             1728\n",
       "2nd Largest Property Use Type                                 28374\n",
       "2nd Largest Property Use - Gross Floor Area (ft²)             28374\n",
       "3rd Largest Property Use Type                                 33150\n",
       "3rd Largest Property Use Type - Gross Floor Area (ft²)        33150\n",
       "Year Built                                                     1245\n",
       "Occupancy                                                      1692\n",
       "Metered Areas (Energy)                                         3890\n",
       "Metered Areas  (Water)                                        21054\n",
       "ENERGY STAR Score                                             12589\n",
       "Source EUI (kBtu/ft²)                                          4251\n",
       "Weather Normalized Source EUI (kBtu/ft²)                       9170\n",
       "Site EUI (kBtu/ft²)                                            4251\n",
       "Weather Normalized Site EUI (kBtu/ft²)                         9170\n",
       "Weather Normalized Site Electricity Intensity (kWh/ft²)        5482\n",
       "Weather Normalized Site Natural Gas Intensity (therms/ft²)    10073\n",
       "Fuel Oil #1 Use (kBtu)                                        35564\n",
       "Fuel Oil #2 Use (kBtu)                                        29936\n",
       "Fuel Oil #4 Use (kBtu)                                        33222\n",
       "Fuel Oil #5 & 6 Use (kBtu)                                    35116\n",
       "Diesel #2 Use (kBtu)                                          35530\n",
       "District Steam Use (kBtu)                                     34032\n",
       "Natural Gas Use (kBtu)                                         8672\n",
       "Weather Normalized Site Natural Gas Use (therms)              10066\n",
       "Electricity Use - Grid Purchase (kBtu)                         4577\n",
       "Weather Normalized Site Electricity (kWh)                      5468\n",
       "Total GHG Emissions (Metric Tons CO2e)                         3143\n",
       "Direct GHG Emissions (Metric Tons CO2e)                        2991\n",
       "Indirect GHG Emissions (Metric Tons CO2e)                      2995\n",
       "Water Use (All Water Sources) (kgal)                          22033\n",
       "DOF Benchmarking Submission Status                               30\n",
       "dtype: int64"
      ]
     },
     "execution_count": 7,
     "metadata": {},
     "output_type": "execute_result"
    }
   ],
   "source": [
    "df_energy.isnull().sum()"
   ]
  },
  {
   "cell_type": "code",
   "execution_count": 39,
   "id": "7a22a82b",
   "metadata": {
    "scrolled": true
   },
   "outputs": [
    {
     "data": {
      "text/plain": [
       "Index(['Order', 'Property Name', 'Parent Property Id', 'Parent Property Name',\n",
       "       'Street Number', 'Street Name', 'Borough',\n",
       "       'Primary Property Type - Self Selected',\n",
       "       'List of All Property Use Types at Property',\n",
       "       'Largest Property Use Type',\n",
       "       'Largest Property Use Type - Gross Floor Area (ft²)',\n",
       "       '2nd Largest Property Use Type',\n",
       "       '2nd Largest Property Use - Gross Floor Area (ft²)',\n",
       "       '3rd Largest Property Use Type',\n",
       "       '3rd Largest Property Use Type - Gross Floor Area (ft²)', 'Year Built',\n",
       "       'Occupancy', 'Metered Areas (Energy)', 'Metered Areas  (Water)',\n",
       "       'ENERGY STAR Score', 'Source EUI (kBtu/ft²)',\n",
       "       'Weather Normalized Source EUI (kBtu/ft²)', 'Site EUI (kBtu/ft²)',\n",
       "       'Weather Normalized Site EUI (kBtu/ft²)',\n",
       "       'Weather Normalized Site Electricity Intensity (kWh/ft²)',\n",
       "       'Weather Normalized Site Natural Gas Intensity (therms/ft²)',\n",
       "       'Fuel Oil #1 Use (kBtu)', 'Fuel Oil #2 Use (kBtu)',\n",
       "       'Fuel Oil #4 Use (kBtu)', 'Fuel Oil #5 & 6 Use (kBtu)',\n",
       "       'Diesel #2 Use (kBtu)', 'District Steam Use (kBtu)',\n",
       "       'Natural Gas Use (kBtu)',\n",
       "       'Weather Normalized Site Natural Gas Use (therms)',\n",
       "       'Electricity Use - Grid Purchase (kBtu)',\n",
       "       'Weather Normalized Site Electricity (kWh)',\n",
       "       'Total GHG Emissions (Metric Tons CO2e)',\n",
       "       'Direct GHG Emissions (Metric Tons CO2e)',\n",
       "       'Indirect GHG Emissions (Metric Tons CO2e)',\n",
       "       'Water Use (All Water Sources) (kgal)',\n",
       "       'DOF Benchmarking Submission Status'],\n",
       "      dtype='object')"
      ]
     },
     "execution_count": 39,
     "metadata": {},
     "output_type": "execute_result"
    }
   ],
   "source": [
    "df_energy.columns"
   ]
  },
  {
   "cell_type": "code",
   "execution_count": 8,
   "id": "6484ed93",
   "metadata": {},
   "outputs": [
    {
     "data": {
      "text/html": [
       "<div>\n",
       "<style scoped>\n",
       "    .dataframe tbody tr th:only-of-type {\n",
       "        vertical-align: middle;\n",
       "    }\n",
       "\n",
       "    .dataframe tbody tr th {\n",
       "        vertical-align: top;\n",
       "    }\n",
       "\n",
       "    .dataframe thead th {\n",
       "        text-align: right;\n",
       "    }\n",
       "</style>\n",
       "<table border=\"1\" class=\"dataframe\">\n",
       "  <thead>\n",
       "    <tr style=\"text-align: right;\">\n",
       "      <th></th>\n",
       "      <th>Order</th>\n",
       "      <th>Occupancy</th>\n",
       "    </tr>\n",
       "  </thead>\n",
       "  <tbody>\n",
       "    <tr>\n",
       "      <th>count</th>\n",
       "      <td>59324.000000</td>\n",
       "      <td>57632.000000</td>\n",
       "    </tr>\n",
       "    <tr>\n",
       "      <th>mean</th>\n",
       "      <td>12947.043659</td>\n",
       "      <td>98.587330</td>\n",
       "    </tr>\n",
       "    <tr>\n",
       "      <th>std</th>\n",
       "      <td>9582.439399</td>\n",
       "      <td>8.280653</td>\n",
       "    </tr>\n",
       "    <tr>\n",
       "      <th>min</th>\n",
       "      <td>1.000000</td>\n",
       "      <td>0.000000</td>\n",
       "    </tr>\n",
       "    <tr>\n",
       "      <th>25%</th>\n",
       "      <td>5188.000000</td>\n",
       "      <td>100.000000</td>\n",
       "    </tr>\n",
       "    <tr>\n",
       "      <th>50%</th>\n",
       "      <td>10646.000000</td>\n",
       "      <td>100.000000</td>\n",
       "    </tr>\n",
       "    <tr>\n",
       "      <th>75%</th>\n",
       "      <td>19736.250000</td>\n",
       "      <td>100.000000</td>\n",
       "    </tr>\n",
       "    <tr>\n",
       "      <th>max</th>\n",
       "      <td>34686.000000</td>\n",
       "      <td>100.000000</td>\n",
       "    </tr>\n",
       "  </tbody>\n",
       "</table>\n",
       "</div>"
      ],
      "text/plain": [
       "              Order     Occupancy\n",
       "count  59324.000000  57632.000000\n",
       "mean   12947.043659     98.587330\n",
       "std     9582.439399      8.280653\n",
       "min        1.000000      0.000000\n",
       "25%     5188.000000    100.000000\n",
       "50%    10646.000000    100.000000\n",
       "75%    19736.250000    100.000000\n",
       "max    34686.000000    100.000000"
      ]
     },
     "execution_count": 8,
     "metadata": {},
     "output_type": "execute_result"
    }
   ],
   "source": [
    "df_energy.describe()"
   ]
  },
  {
   "cell_type": "markdown",
   "id": "1f0f5df1",
   "metadata": {},
   "source": [
    "# Data Acquisition and filtering"
   ]
  },
  {
   "cell_type": "code",
   "execution_count": 11,
   "id": "5e7c7ac7",
   "metadata": {},
   "outputs": [],
   "source": [
    "#Removing noise from the dataset and saving the filtered dataset\n",
    "df_filtered=df_energy.drop(columns=['Order','Property Name','Parent Property Id','Parent Property Name','Street Number','Street Name','DOF Benchmarking Submission Status'],inplace=False)\n",
    "file_path = \"filtered_energy.csv\"\n",
    "df_filtered.to_csv(file_path, index=False)\n"
   ]
  },
  {
   "cell_type": "markdown",
   "id": "d5342c80",
   "metadata": {},
   "source": [
    "# Data Validation and Cleansing"
   ]
  },
  {
   "cell_type": "markdown",
   "id": "e862a7ac",
   "metadata": {},
   "source": [
    "### Adding multiple columns to create new column\n"
   ]
  },
  {
   "cell_type": "code",
   "execution_count": 12,
   "id": "7f3cb5fe",
   "metadata": {},
   "outputs": [],
   "source": [
    "df_cleansed=df_filtered.copy()\n",
    "# Convert columns to numeric and fill null and non-numeric values with 0\n",
    "df_cleansed['Largest Property Use Type - Gross Floor Area (ft²)'] = pd.to_numeric(df_cleansed['Largest Property Use Type - Gross Floor Area (ft²)'], errors='coerce').fillna(0)\n",
    "df_cleansed['2nd Largest Property Use - Gross Floor Area (ft²)'] = pd.to_numeric(df_cleansed['2nd Largest Property Use - Gross Floor Area (ft²)'], errors='coerce').fillna(0)\n",
    "df_cleansed['3rd Largest Property Use Type - Gross Floor Area (ft²)'] = pd.to_numeric(df_cleansed['3rd Largest Property Use Type - Gross Floor Area (ft²)'], errors='coerce').fillna(0)\n",
    "\n",
    "# Calculate the 'Total Gross Floor Area' by summing the columns and assign the result to a new column\n",
    "df_cleansed['Total Gross Floor Area'] = df_cleansed['Largest Property Use Type - Gross Floor Area (ft²)'] + df_cleansed['2nd Largest Property Use - Gross Floor Area (ft²)'] + df_cleansed['3rd Largest Property Use Type - Gross Floor Area (ft²)']\n",
    "\n",
    "# Create the new column 'Total Property Types In Use'\n",
    "df_cleansed['Total Property Types In Use'] = df_cleansed[['3rd Largest Property Use Type', '2nd Largest Property Use Type', 'Largest Property Use Type']].apply(lambda x: ','.join(filter(lambda p: p not in ['Not Available', 'nan'], x.dropna().astype(str))), axis=1)\n"
   ]
  },
  {
   "cell_type": "code",
   "execution_count": 13,
   "id": "e85c4938",
   "metadata": {},
   "outputs": [],
   "source": [
    "# Convert fuel columns to numeric type and replace non-numeric values with NaN\n",
    "df_cleansed['Fuel Oil #1 Use (kBtu)'] = pd.to_numeric(df_cleansed['Fuel Oil #1 Use (kBtu)'], errors='coerce')\n",
    "df_cleansed['Fuel Oil #2 Use (kBtu)'] = pd.to_numeric(df_cleansed['Fuel Oil #2 Use (kBtu)'], errors='coerce')\n",
    "df_cleansed['Fuel Oil #4 Use (kBtu)'] = pd.to_numeric(df_cleansed['Fuel Oil #4 Use (kBtu)'], errors='coerce')\n",
    "df_cleansed['Fuel Oil #5 & 6 Use (kBtu)'] = pd.to_numeric(df_cleansed['Fuel Oil #5 & 6 Use (kBtu)'], errors='coerce')\n",
    "df_cleansed['Diesel #2 Use (kBtu)'] = pd.to_numeric(df_cleansed['Diesel #2 Use (kBtu)'], errors='coerce')\n",
    "\n",
    "# Replace NaN values with 0 in fuel columns\n",
    "df_cleansed['Fuel Oil #1 Use (kBtu)'].fillna(0, inplace=True)\n",
    "df_cleansed['Fuel Oil #2 Use (kBtu)'].fillna(0, inplace=True)\n",
    "df_cleansed['Fuel Oil #4 Use (kBtu)'].fillna(0, inplace=True)\n",
    "df_cleansed['Fuel Oil #5 & 6 Use (kBtu)'].fillna(0, inplace=True)\n",
    "df_cleansed['Diesel #2 Use (kBtu)'].fillna(0, inplace=True)\n",
    "\n",
    "# Create a new column 'Total Fuel Consumption' by summing the fuel columns\n",
    "df_cleansed['Total Fuel Consumption'] = df_cleansed['Fuel Oil #1 Use (kBtu)'] + df_cleansed['Fuel Oil #2 Use (kBtu)'] + df_cleansed['Fuel Oil #4 Use (kBtu)'] + df_cleansed['Fuel Oil #5 & 6 Use (kBtu)'] + df_cleansed['Diesel #2 Use (kBtu)']\n"
   ]
  },
  {
   "cell_type": "code",
   "execution_count": 44,
   "id": "0d5a0ef5",
   "metadata": {
    "scrolled": false
   },
   "outputs": [
    {
     "data": {
      "text/plain": [
       "Borough                                                         118\n",
       "Primary Property Type - Self Selected                          1245\n",
       "List of All Property Use Types at Property                     1258\n",
       "Largest Property Use Type                                      1277\n",
       "Largest Property Use Type - Gross Floor Area (ft²)                0\n",
       "2nd Largest Property Use Type                                 28374\n",
       "2nd Largest Property Use - Gross Floor Area (ft²)                 0\n",
       "3rd Largest Property Use Type                                 33150\n",
       "3rd Largest Property Use Type - Gross Floor Area (ft²)            0\n",
       "Year Built                                                     1245\n",
       "Occupancy                                                      1692\n",
       "Metered Areas (Energy)                                         3890\n",
       "Metered Areas  (Water)                                        21054\n",
       "ENERGY STAR Score                                             12589\n",
       "Source EUI (kBtu/ft²)                                          4251\n",
       "Weather Normalized Source EUI (kBtu/ft²)                       9170\n",
       "Site EUI (kBtu/ft²)                                            4251\n",
       "Weather Normalized Site EUI (kBtu/ft²)                         9170\n",
       "Weather Normalized Site Electricity Intensity (kWh/ft²)        5482\n",
       "Weather Normalized Site Natural Gas Intensity (therms/ft²)    10073\n",
       "Fuel Oil #1 Use (kBtu)                                            0\n",
       "Fuel Oil #2 Use (kBtu)                                            0\n",
       "Fuel Oil #4 Use (kBtu)                                            0\n",
       "Fuel Oil #5 & 6 Use (kBtu)                                        0\n",
       "Diesel #2 Use (kBtu)                                              0\n",
       "District Steam Use (kBtu)                                     34032\n",
       "Natural Gas Use (kBtu)                                         8672\n",
       "Weather Normalized Site Natural Gas Use (therms)              10066\n",
       "Electricity Use - Grid Purchase (kBtu)                         4577\n",
       "Weather Normalized Site Electricity (kWh)                      5468\n",
       "Total GHG Emissions (Metric Tons CO2e)                         3143\n",
       "Direct GHG Emissions (Metric Tons CO2e)                        2991\n",
       "Indirect GHG Emissions (Metric Tons CO2e)                      2995\n",
       "Water Use (All Water Sources) (kgal)                          22033\n",
       "Total Gross Floor Area                                            0\n",
       "Total Property Types In Use                                       0\n",
       "Total Fuel Consumption                                            0\n",
       "dtype: int64"
      ]
     },
     "execution_count": 44,
     "metadata": {},
     "output_type": "execute_result"
    }
   ],
   "source": [
    "df_cleansed.isnull().sum()"
   ]
  },
  {
   "cell_type": "markdown",
   "id": "01cb1fec",
   "metadata": {},
   "source": [
    "### Removing null values of numeric columns"
   ]
  },
  {
   "cell_type": "code",
   "execution_count": 24,
   "id": "8c282000",
   "metadata": {},
   "outputs": [
    {
     "ename": "KeyError",
     "evalue": "0",
     "output_type": "error",
     "traceback": [
      "\u001b[0;31m---------------------------------------------------------------------------\u001b[0m",
      "\u001b[0;31mKeyError\u001b[0m                                  Traceback (most recent call last)",
      "File \u001b[0;32m~/tensoflow-test/env/lib/python3.10/site-packages/pandas/core/indexes/base.py:3621\u001b[0m, in \u001b[0;36mIndex.get_loc\u001b[0;34m(self, key, method, tolerance)\u001b[0m\n\u001b[1;32m   3620\u001b[0m \u001b[38;5;28;01mtry\u001b[39;00m:\n\u001b[0;32m-> 3621\u001b[0m     \u001b[38;5;28;01mreturn\u001b[39;00m \u001b[38;5;28;43mself\u001b[39;49m\u001b[38;5;241;43m.\u001b[39;49m\u001b[43m_engine\u001b[49m\u001b[38;5;241;43m.\u001b[39;49m\u001b[43mget_loc\u001b[49m\u001b[43m(\u001b[49m\u001b[43mcasted_key\u001b[49m\u001b[43m)\u001b[49m\n\u001b[1;32m   3622\u001b[0m \u001b[38;5;28;01mexcept\u001b[39;00m \u001b[38;5;167;01mKeyError\u001b[39;00m \u001b[38;5;28;01mas\u001b[39;00m err:\n",
      "File \u001b[0;32m~/tensoflow-test/env/lib/python3.10/site-packages/pandas/_libs/index.pyx:136\u001b[0m, in \u001b[0;36mpandas._libs.index.IndexEngine.get_loc\u001b[0;34m()\u001b[0m\n",
      "File \u001b[0;32m~/tensoflow-test/env/lib/python3.10/site-packages/pandas/_libs/index.pyx:163\u001b[0m, in \u001b[0;36mpandas._libs.index.IndexEngine.get_loc\u001b[0;34m()\u001b[0m\n",
      "File \u001b[0;32mpandas/_libs/hashtable_class_helper.pxi:1533\u001b[0m, in \u001b[0;36mpandas._libs.hashtable.Float64HashTable.get_item\u001b[0;34m()\u001b[0m\n",
      "File \u001b[0;32mpandas/_libs/hashtable_class_helper.pxi:1542\u001b[0m, in \u001b[0;36mpandas._libs.hashtable.Float64HashTable.get_item\u001b[0;34m()\u001b[0m\n",
      "\u001b[0;31mKeyError\u001b[0m: 0.0",
      "\nThe above exception was the direct cause of the following exception:\n",
      "\u001b[0;31mKeyError\u001b[0m                                  Traceback (most recent call last)",
      "Input \u001b[0;32mIn [24]\u001b[0m, in \u001b[0;36m<cell line: 2>\u001b[0;34m()\u001b[0m\n\u001b[1;32m      1\u001b[0m \u001b[38;5;66;03m# count the number of 0 value in Total gross floor area\u001b[39;00m\n\u001b[0;32m----> 2\u001b[0m \u001b[43mdf_cleansed\u001b[49m\u001b[43m[\u001b[49m\u001b[38;5;124;43m'\u001b[39;49m\u001b[38;5;124;43mTotal Gross Floor Area\u001b[39;49m\u001b[38;5;124;43m'\u001b[39;49m\u001b[43m]\u001b[49m\u001b[38;5;241;43m.\u001b[39;49m\u001b[43mvalue_counts\u001b[49m\u001b[43m(\u001b[49m\u001b[43m)\u001b[49m\u001b[43m[\u001b[49m\u001b[38;5;241;43m0\u001b[39;49m\u001b[43m]\u001b[49m\n",
      "File \u001b[0;32m~/tensoflow-test/env/lib/python3.10/site-packages/pandas/core/series.py:958\u001b[0m, in \u001b[0;36mSeries.__getitem__\u001b[0;34m(self, key)\u001b[0m\n\u001b[1;32m    955\u001b[0m     \u001b[38;5;28;01mreturn\u001b[39;00m \u001b[38;5;28mself\u001b[39m\u001b[38;5;241m.\u001b[39m_values[key]\n\u001b[1;32m    957\u001b[0m \u001b[38;5;28;01melif\u001b[39;00m key_is_scalar:\n\u001b[0;32m--> 958\u001b[0m     \u001b[38;5;28;01mreturn\u001b[39;00m \u001b[38;5;28;43mself\u001b[39;49m\u001b[38;5;241;43m.\u001b[39;49m\u001b[43m_get_value\u001b[49m\u001b[43m(\u001b[49m\u001b[43mkey\u001b[49m\u001b[43m)\u001b[49m\n\u001b[1;32m    960\u001b[0m \u001b[38;5;28;01mif\u001b[39;00m is_hashable(key):\n\u001b[1;32m    961\u001b[0m     \u001b[38;5;66;03m# Otherwise index.get_value will raise InvalidIndexError\u001b[39;00m\n\u001b[1;32m    962\u001b[0m     \u001b[38;5;28;01mtry\u001b[39;00m:\n\u001b[1;32m    963\u001b[0m         \u001b[38;5;66;03m# For labels that don't resolve as scalars like tuples and frozensets\u001b[39;00m\n",
      "File \u001b[0;32m~/tensoflow-test/env/lib/python3.10/site-packages/pandas/core/series.py:1069\u001b[0m, in \u001b[0;36mSeries._get_value\u001b[0;34m(self, label, takeable)\u001b[0m\n\u001b[1;32m   1066\u001b[0m     \u001b[38;5;28;01mreturn\u001b[39;00m \u001b[38;5;28mself\u001b[39m\u001b[38;5;241m.\u001b[39m_values[label]\n\u001b[1;32m   1068\u001b[0m \u001b[38;5;66;03m# Similar to Index.get_value, but we do not fall back to positional\u001b[39;00m\n\u001b[0;32m-> 1069\u001b[0m loc \u001b[38;5;241m=\u001b[39m \u001b[38;5;28;43mself\u001b[39;49m\u001b[38;5;241;43m.\u001b[39;49m\u001b[43mindex\u001b[49m\u001b[38;5;241;43m.\u001b[39;49m\u001b[43mget_loc\u001b[49m\u001b[43m(\u001b[49m\u001b[43mlabel\u001b[49m\u001b[43m)\u001b[49m\n\u001b[1;32m   1070\u001b[0m \u001b[38;5;28;01mreturn\u001b[39;00m \u001b[38;5;28mself\u001b[39m\u001b[38;5;241m.\u001b[39mindex\u001b[38;5;241m.\u001b[39m_get_values_for_loc(\u001b[38;5;28mself\u001b[39m, loc, label)\n",
      "File \u001b[0;32m~/tensoflow-test/env/lib/python3.10/site-packages/pandas/core/indexes/base.py:3623\u001b[0m, in \u001b[0;36mIndex.get_loc\u001b[0;34m(self, key, method, tolerance)\u001b[0m\n\u001b[1;32m   3621\u001b[0m     \u001b[38;5;28;01mreturn\u001b[39;00m \u001b[38;5;28mself\u001b[39m\u001b[38;5;241m.\u001b[39m_engine\u001b[38;5;241m.\u001b[39mget_loc(casted_key)\n\u001b[1;32m   3622\u001b[0m \u001b[38;5;28;01mexcept\u001b[39;00m \u001b[38;5;167;01mKeyError\u001b[39;00m \u001b[38;5;28;01mas\u001b[39;00m err:\n\u001b[0;32m-> 3623\u001b[0m     \u001b[38;5;28;01mraise\u001b[39;00m \u001b[38;5;167;01mKeyError\u001b[39;00m(key) \u001b[38;5;28;01mfrom\u001b[39;00m \u001b[38;5;21;01merr\u001b[39;00m\n\u001b[1;32m   3624\u001b[0m \u001b[38;5;28;01mexcept\u001b[39;00m \u001b[38;5;167;01mTypeError\u001b[39;00m:\n\u001b[1;32m   3625\u001b[0m     \u001b[38;5;66;03m# If we have a listlike key, _check_indexing_error will raise\u001b[39;00m\n\u001b[1;32m   3626\u001b[0m     \u001b[38;5;66;03m#  InvalidIndexError. Otherwise we fall through and re-raise\u001b[39;00m\n\u001b[1;32m   3627\u001b[0m     \u001b[38;5;66;03m#  the TypeError.\u001b[39;00m\n\u001b[1;32m   3628\u001b[0m     \u001b[38;5;28mself\u001b[39m\u001b[38;5;241m.\u001b[39m_check_indexing_error(key)\n",
      "\u001b[0;31mKeyError\u001b[0m: 0"
     ]
    }
   ],
   "source": [
    "# count the number of 0 value in Total gross floor area\n",
    "df_cleansed['Total Gross Floor Area'].value_counts()[0]"
   ]
  },
  {
   "cell_type": "code",
   "execution_count": 20,
   "id": "b55594d4",
   "metadata": {},
   "outputs": [],
   "source": [
    "df_cleansed['Total Gross Floor Area'] = df_cleansed['Total Gross Floor Area'].replace(0, np.nan) "
   ]
  },
  {
   "cell_type": "code",
   "execution_count": 27,
   "id": "5fb593a7",
   "metadata": {},
   "outputs": [
    {
     "data": {
      "text/plain": [
       "1730"
      ]
     },
     "execution_count": 27,
     "metadata": {},
     "output_type": "execute_result"
    }
   ],
   "source": [
    "#check no. of nan value with isna()\n",
    "df_cleansed['Total Gross Floor Area'].isna().sum()\n"
   ]
  },
  {
   "cell_type": "code",
   "execution_count": 28,
   "id": "92b070df",
   "metadata": {},
   "outputs": [],
   "source": [
    "# Interpolate 0 values in 'Total Gross Floor Area' column\n",
    "df_cleansed['Total Gross Floor Area'] = df_cleansed['Total Gross Floor Area'].replace(0, np.nan)  # Replace 0 values with NaN\n",
    "df_cleansed['Total Gross Floor Area'].interpolate(method='linear', inplace=True)  # Interpolate missing values using linear method\n"
   ]
  },
  {
   "cell_type": "code",
   "execution_count": 30,
   "id": "1e4ec12b",
   "metadata": {},
   "outputs": [
    {
     "data": {
      "text/plain": [
       "0"
      ]
     },
     "execution_count": 30,
     "metadata": {},
     "output_type": "execute_result"
    }
   ],
   "source": [
    "#again check no. of nan value after interpolating\n",
    "df_cleansed['Total Gross Floor Area'].isna().sum()"
   ]
  },
  {
   "cell_type": "code",
   "execution_count": 46,
   "id": "9bbee09d",
   "metadata": {
    "scrolled": true
   },
   "outputs": [
    {
     "name": "stdout",
     "output_type": "stream",
     "text": [
      "Column: ENERGY STAR Score\n",
      "Null values: 12589\n",
      "Non-numeric values: 14693\n",
      "Null values after interpolation: 0\n",
      "Non-numeric values after interpolation: 0\n",
      "Column: Source EUI (kBtu/ft²)\n",
      "Null values: 4251\n",
      "Non-numeric values: 4414\n",
      "Null values after interpolation: 0\n",
      "Non-numeric values after interpolation: 0\n",
      "Column: District Steam Use (kBtu)\n",
      "Null values: 34032\n",
      "Non-numeric values: 55888\n",
      "Null values after interpolation: 0\n",
      "Non-numeric values after interpolation: 0\n",
      "Column: Natural Gas Use (kBtu)\n",
      "Null values: 8672\n",
      "Non-numeric values: 10114\n",
      "Null values after interpolation: 0\n",
      "Non-numeric values after interpolation: 0\n",
      "Column: Electricity Use - Grid Purchase (kBtu)\n",
      "Null values: 4577\n",
      "Non-numeric values: 4821\n",
      "Null values after interpolation: 0\n",
      "Non-numeric values after interpolation: 0\n",
      "Column: Total GHG Emissions (Metric Tons CO2e)\n",
      "Null values: 3143\n",
      "Non-numeric values: 3217\n",
      "Null values after interpolation: 0\n",
      "Non-numeric values after interpolation: 0\n",
      "Column: Water Use (All Water Sources) (kgal)\n",
      "Null values: 22033\n",
      "Non-numeric values: 26017\n",
      "Null values after interpolation: 0\n",
      "Non-numeric values after interpolation: 0\n",
      "Column: Occupancy\n",
      "Null values: 1692\n",
      "Non-numeric values: 1692\n",
      "Null values after interpolation: 0\n",
      "Non-numeric values after interpolation: 0\n"
     ]
    }
   ],
   "source": [
    "# Columns to check for missing values\n",
    "columns_to_check = ['ENERGY STAR Score', 'Source EUI (kBtu/ft²)',\n",
    "                    'District Steam Use (kBtu)', 'Natural Gas Use (kBtu)',\n",
    "                    'Electricity Use - Grid Purchase (kBtu)', 'Total GHG Emissions (Metric Tons CO2e)',\n",
    "                    'Water Use (All Water Sources) (kgal)','Occupancy']\n",
    "\n",
    "for column in columns_to_check:\n",
    "    null_count = df_cleansed[column].isnull().sum()\n",
    "    non_numeric_count = pd.to_numeric(df_cleansed[column], errors='coerce').isnull().sum()\n",
    "    print(f\"Column: {column}\")\n",
    "    print(f\"Null values: {null_count}\")\n",
    "    print(f\"Non-numeric values: {non_numeric_count}\")\n",
    "    \n",
    "    # Impute null and non-numeric values using interpolate\n",
    "    if null_count > 0 or non_numeric_count > 0:\n",
    "        df_cleansed[column] = pd.to_numeric(df_cleansed[column], errors='coerce')  # Convert column to numeric type\n",
    "        df_cleansed[column].interpolate(method='linear', inplace=True)  # Impute using interpolate method\n",
    "\n",
    "        # Check if any null or non-numeric values remaining after interpolation\n",
    "        null_count_after = df_cleansed[column].isnull().sum()\n",
    "        non_numeric_count_after = pd.to_numeric(df_cleansed[column], errors='coerce').isnull().sum()\n",
    "        print(f\"Null values after interpolation: {null_count_after}\")\n",
    "        print(f\"Non-numeric values after interpolation: {non_numeric_count_after}\")"
   ]
  },
  {
   "cell_type": "markdown",
   "id": "6694791f",
   "metadata": {},
   "source": [
    "### Removing null values of non-numeric columns"
   ]
  },
  {
   "cell_type": "code",
   "execution_count": 47,
   "id": "05b888d3",
   "metadata": {},
   "outputs": [],
   "source": [
    "df_cleansed.dropna(subset=['Borough'], inplace=True)"
   ]
  },
  {
   "cell_type": "code",
   "execution_count": 48,
   "id": "02246e56",
   "metadata": {},
   "outputs": [],
   "source": [
    "df_cleansed['Year Built'] = pd.to_numeric(df_cleansed['Year Built'], errors='coerce')\n",
    "mode_value = df_cleansed['Year Built'].mode()[0]\n",
    "df_cleansed['Year Built'].fillna(mode_value, inplace=True)\n"
   ]
  },
  {
   "cell_type": "code",
   "execution_count": 49,
   "id": "000d39f7",
   "metadata": {},
   "outputs": [
    {
     "data": {
      "text/plain": [
       "Metered Areas  (Water)    0\n",
       "Metered Areas (Energy)    0\n",
       "dtype: int64"
      ]
     },
     "execution_count": 49,
     "metadata": {},
     "output_type": "execute_result"
    }
   ],
   "source": [
    "columns_to_impute_mode = ['Metered Areas  (Water)', 'Metered Areas (Energy)']\n",
    "\n",
    "# Impute missing values with mode\n",
    "for column in columns_to_impute_mode:\n",
    "    mode_value = df_cleansed[column].mode()[0]\n",
    "    df_cleansed[column].fillna(mode_value, inplace=True)\n",
    "\n",
    "# Check if any null values remaining after imputation\n",
    "null_counts_after = df_cleansed[columns_to_impute_mode].isnull().sum()\n",
    "null_counts_after"
   ]
  },
  {
   "cell_type": "markdown",
   "id": "382019eb",
   "metadata": {},
   "source": [
    "### Filtering out necessary columns"
   ]
  },
  {
   "cell_type": "code",
   "execution_count": 50,
   "id": "f1c24ff9",
   "metadata": {},
   "outputs": [
    {
     "data": {
      "text/html": [
       "<div>\n",
       "<style scoped>\n",
       "    .dataframe tbody tr th:only-of-type {\n",
       "        vertical-align: middle;\n",
       "    }\n",
       "\n",
       "    .dataframe tbody tr th {\n",
       "        vertical-align: top;\n",
       "    }\n",
       "\n",
       "    .dataframe thead th {\n",
       "        text-align: right;\n",
       "    }\n",
       "</style>\n",
       "<table border=\"1\" class=\"dataframe\">\n",
       "  <thead>\n",
       "    <tr style=\"text-align: right;\">\n",
       "      <th></th>\n",
       "      <th>Borough</th>\n",
       "      <th>Year Built</th>\n",
       "      <th>Metered Areas  (Water)</th>\n",
       "      <th>Metered Areas (Energy)</th>\n",
       "      <th>Total Property Types In Use</th>\n",
       "      <th>ENERGY STAR Score</th>\n",
       "      <th>Source EUI (kBtu/ft²)</th>\n",
       "      <th>District Steam Use (kBtu)</th>\n",
       "      <th>Natural Gas Use (kBtu)</th>\n",
       "      <th>Electricity Use - Grid Purchase (kBtu)</th>\n",
       "      <th>Total GHG Emissions (Metric Tons CO2e)</th>\n",
       "      <th>Water Use (All Water Sources) (kgal)</th>\n",
       "      <th>Occupancy</th>\n",
       "      <th>Total Gross Floor Area</th>\n",
       "      <th>Total Fuel Consumption</th>\n",
       "    </tr>\n",
       "  </thead>\n",
       "  <tbody>\n",
       "    <tr>\n",
       "      <th>0</th>\n",
       "      <td>Manhattan</td>\n",
       "      <td>1909.0</td>\n",
       "      <td>Whole Building</td>\n",
       "      <td>Whole Building</td>\n",
       "      <td>Bank Branch,Office</td>\n",
       "      <td>90.0</td>\n",
       "      <td>138.4</td>\n",
       "      <td>1133475.10</td>\n",
       "      <td>1.435755e+06</td>\n",
       "      <td>6551394.1</td>\n",
       "      <td>732.4</td>\n",
       "      <td>3635.5</td>\n",
       "      <td>95.0</td>\n",
       "      <td>169416.0</td>\n",
       "      <td>0.0</td>\n",
       "    </tr>\n",
       "    <tr>\n",
       "      <th>1</th>\n",
       "      <td>Queens</td>\n",
       "      <td>1963.0</td>\n",
       "      <td>Whole Building</td>\n",
       "      <td>Whole Building</td>\n",
       "      <td>K-12 School</td>\n",
       "      <td>100.0</td>\n",
       "      <td>43.5</td>\n",
       "      <td>2143857.95</td>\n",
       "      <td>2.068300e+06</td>\n",
       "      <td>616343.7</td>\n",
       "      <td>164.5</td>\n",
       "      <td>102.9</td>\n",
       "      <td>100.0</td>\n",
       "      <td>94380.0</td>\n",
       "      <td>0.0</td>\n",
       "    </tr>\n",
       "    <tr>\n",
       "      <th>2</th>\n",
       "      <td>Manhattan</td>\n",
       "      <td>1999.0</td>\n",
       "      <td>Whole Building</td>\n",
       "      <td>Whole Building</td>\n",
       "      <td>Hotel</td>\n",
       "      <td>83.0</td>\n",
       "      <td>271.1</td>\n",
       "      <td>3154240.80</td>\n",
       "      <td>8.245445e+06</td>\n",
       "      <td>8033914.4</td>\n",
       "      <td>1150.2</td>\n",
       "      <td>10762.6</td>\n",
       "      <td>85.0</td>\n",
       "      <td>125000.0</td>\n",
       "      <td>0.0</td>\n",
       "    </tr>\n",
       "    <tr>\n",
       "      <th>3</th>\n",
       "      <td>Manhattan</td>\n",
       "      <td>1994.0</td>\n",
       "      <td>Whole Building</td>\n",
       "      <td>Whole Building</td>\n",
       "      <td>Hotel</td>\n",
       "      <td>27.0</td>\n",
       "      <td>163.0</td>\n",
       "      <td>4164623.65</td>\n",
       "      <td>1.848519e+06</td>\n",
       "      <td>1976691.9</td>\n",
       "      <td>273.4</td>\n",
       "      <td>790.1</td>\n",
       "      <td>100.0</td>\n",
       "      <td>50000.0</td>\n",
       "      <td>0.0</td>\n",
       "    </tr>\n",
       "    <tr>\n",
       "      <th>4</th>\n",
       "      <td>Manhattan</td>\n",
       "      <td>2012.0</td>\n",
       "      <td>Whole Building</td>\n",
       "      <td>Whole Building</td>\n",
       "      <td>Hotel</td>\n",
       "      <td>99.0</td>\n",
       "      <td>64.2</td>\n",
       "      <td>5175006.50</td>\n",
       "      <td>1.866393e+06</td>\n",
       "      <td>1022951.6</td>\n",
       "      <td>90.7</td>\n",
       "      <td>143.0</td>\n",
       "      <td>0.0</td>\n",
       "      <td>50000.0</td>\n",
       "      <td>0.0</td>\n",
       "    </tr>\n",
       "  </tbody>\n",
       "</table>\n",
       "</div>"
      ],
      "text/plain": [
       "     Borough  Year Built Metered Areas  (Water) Metered Areas (Energy)  \\\n",
       "0  Manhattan      1909.0         Whole Building         Whole Building   \n",
       "1     Queens      1963.0         Whole Building         Whole Building   \n",
       "2  Manhattan      1999.0         Whole Building         Whole Building   \n",
       "3  Manhattan      1994.0         Whole Building         Whole Building   \n",
       "4  Manhattan      2012.0         Whole Building         Whole Building   \n",
       "\n",
       "  Total Property Types In Use  ENERGY STAR Score  Source EUI (kBtu/ft²)  \\\n",
       "0          Bank Branch,Office               90.0                  138.4   \n",
       "1                 K-12 School              100.0                   43.5   \n",
       "2                       Hotel               83.0                  271.1   \n",
       "3                       Hotel               27.0                  163.0   \n",
       "4                       Hotel               99.0                   64.2   \n",
       "\n",
       "   District Steam Use (kBtu)  Natural Gas Use (kBtu)  \\\n",
       "0                 1133475.10            1.435755e+06   \n",
       "1                 2143857.95            2.068300e+06   \n",
       "2                 3154240.80            8.245445e+06   \n",
       "3                 4164623.65            1.848519e+06   \n",
       "4                 5175006.50            1.866393e+06   \n",
       "\n",
       "   Electricity Use - Grid Purchase (kBtu)  \\\n",
       "0                               6551394.1   \n",
       "1                                616343.7   \n",
       "2                               8033914.4   \n",
       "3                               1976691.9   \n",
       "4                               1022951.6   \n",
       "\n",
       "   Total GHG Emissions (Metric Tons CO2e)  \\\n",
       "0                                   732.4   \n",
       "1                                   164.5   \n",
       "2                                  1150.2   \n",
       "3                                   273.4   \n",
       "4                                    90.7   \n",
       "\n",
       "   Water Use (All Water Sources) (kgal)  Occupancy  Total Gross Floor Area  \\\n",
       "0                                3635.5       95.0                169416.0   \n",
       "1                                 102.9      100.0                 94380.0   \n",
       "2                               10762.6       85.0                125000.0   \n",
       "3                                 790.1      100.0                 50000.0   \n",
       "4                                 143.0        0.0                 50000.0   \n",
       "\n",
       "   Total Fuel Consumption  \n",
       "0                     0.0  \n",
       "1                     0.0  \n",
       "2                     0.0  \n",
       "3                     0.0  \n",
       "4                     0.0  "
      ]
     },
     "execution_count": 50,
     "metadata": {},
     "output_type": "execute_result"
    }
   ],
   "source": [
    "# Specify the columns you want to filter\n",
    "columns_to_filter = ['Borough',  'Year Built','Metered Areas  (Water)', 'Metered Areas (Energy)', 'Total Property Types In Use','ENERGY STAR Score', 'Source EUI (kBtu/ft²)',\n",
    "                    'District Steam Use (kBtu)', 'Natural Gas Use (kBtu)',\n",
    "                    'Electricity Use - Grid Purchase (kBtu)', 'Total GHG Emissions (Metric Tons CO2e)',\n",
    "                    'Water Use (All Water Sources) (kgal)','Occupancy','Total Gross Floor Area','Total Fuel Consumption']\n",
    "\n",
    "# Filter the DataFrame using the specified columns\n",
    "df_cleansed = df_cleansed[columns_to_filter]\n",
    "\n",
    "df_cleansed.head()"
   ]
  },
  {
   "cell_type": "markdown",
   "id": "783ec054",
   "metadata": {},
   "source": [
    "### Encoding non-numeric columns"
   ]
  },
  {
   "cell_type": "code",
   "execution_count": 51,
   "id": "5b742211",
   "metadata": {
    "scrolled": false
   },
   "outputs": [
    {
     "data": {
      "text/plain": [
       "Borough                                      18\n",
       "Year Built                                  180\n",
       "Metered Areas  (Water)                       10\n",
       "Metered Areas (Energy)                       35\n",
       "Total Property Types In Use                1016\n",
       "ENERGY STAR Score                          2729\n",
       "Source EUI (kBtu/ft²)                      6935\n",
       "District Steam Use (kBtu)                 56593\n",
       "Natural Gas Use (kBtu)                    47896\n",
       "Electricity Use - Grid Purchase (kBtu)    47613\n",
       "Total GHG Emissions (Metric Tons CO2e)    18079\n",
       "Water Use (All Water Sources) (kgal)      45316\n",
       "Occupancy                                    30\n",
       "Total Gross Floor Area                    19208\n",
       "Total Fuel Consumption                    11945\n",
       "dtype: int64"
      ]
     },
     "execution_count": 51,
     "metadata": {},
     "output_type": "execute_result"
    }
   ],
   "source": [
    "df_cleansed.nunique()"
   ]
  },
  {
   "cell_type": "code",
   "execution_count": 52,
   "id": "7a9f5d03",
   "metadata": {},
   "outputs": [
    {
     "data": {
      "text/plain": [
       "Multifamily Housing                                                   31151\n",
       "Office                                                                 2825\n",
       "K-12 School                                                            1843\n",
       "Parking,Multifamily Housing                                            1817\n",
       "Retail Store,Multifamily Housing                                       1630\n",
       "                                                                      ...  \n",
       "Personal Services (Health/Beauty, Dry Cleaning, etc.),Retail Store        1\n",
       "Bank Branch,Other - Restaurant/Bar,Office                                 1\n",
       "Retail Store,Medical Office,Parking                                       1\n",
       "Bank Branch,Outpatient Rehabilitation/Physical Therapy,Office             1\n",
       "Other,Distribution Center                                                 1\n",
       "Name: Total Property Types In Use, Length: 1016, dtype: int64"
      ]
     },
     "execution_count": 52,
     "metadata": {},
     "output_type": "execute_result"
    }
   ],
   "source": [
    "df_cleansed['Total Property Types In Use'].value_counts()"
   ]
  },
  {
   "cell_type": "code",
   "execution_count": 53,
   "id": "0d2424e0",
   "metadata": {},
   "outputs": [],
   "source": [
    "# Combine the strings and sort them alphabetically\n",
    "df_cleansed['Total Property Types In Use'] = df_cleansed['Total Property Types In Use'].str.split(',').apply(lambda x: ','.join(sorted(x)))\n",
    "\n"
   ]
  },
  {
   "cell_type": "code",
   "execution_count": 54,
   "id": "5fd760b7",
   "metadata": {
    "scrolled": true
   },
   "outputs": [
    {
     "data": {
      "text/plain": [
       "Multifamily Housing                                           31151\n",
       "Office                                                         2825\n",
       "K-12 School                                                    1843\n",
       "Multifamily Housing,Parking                                    1820\n",
       "Multifamily Housing,Retail Store                               1639\n",
       "                                                              ...  \n",
       "Office,Other,Pre-school/Daycare                                   1\n",
       "Financial Office,Office,Worship Facility                          1\n",
       "Multifamily Housing,Other - Lodging/Residential                   1\n",
       "Food Service,Multifamily Housing,Parking                          1\n",
       "Multifamily Housing,Other - Mall,Supermarket/Grocery Store        1\n",
       "Name: Total Property Types In Use, Length: 782, dtype: int64"
      ]
     },
     "execution_count": 54,
     "metadata": {},
     "output_type": "execute_result"
    }
   ],
   "source": [
    "df_cleansed['Total Property Types In Use'].value_counts()"
   ]
  },
  {
   "cell_type": "code",
   "execution_count": 55,
   "id": "5bf5222b",
   "metadata": {},
   "outputs": [
    {
     "data": {
      "text/plain": [
       "0    57444.0\n",
       "1    52050.0\n",
       "2    54145.0\n",
       "3    54145.0\n",
       "4    54145.0\n",
       "5     6265.0\n",
       "6    54095.0\n",
       "7     3898.0\n",
       "8    56054.0\n",
       "9     9933.0\n",
       "Name: Encoded Property Types, dtype: float64"
      ]
     },
     "execution_count": 55,
     "metadata": {},
     "output_type": "execute_result"
    }
   ],
   "source": [
    "# Get the frequency ranks of the column\n",
    "frequency_ranks = df_cleansed['Total Property Types In Use'].rank(ascending=False, method='min')\n",
    "\n",
    "# Assign the frequency ranks to a new column\n",
    "df_cleansed['Encoded Property Types'] = frequency_ranks\n",
    "df_cleansed['Encoded Property Types'].head(10)"
   ]
  },
  {
   "cell_type": "code",
   "execution_count": 56,
   "id": "fa1a4212",
   "metadata": {
    "scrolled": true
   },
   "outputs": [
    {
     "data": {
      "text/plain": [
       "Whole Building                                                                                                                                   58231\n",
       "See Primary BBL                                                                                                                                    447\n",
       "Another configuration                                                                                                                              274\n",
       "Not Available                                                                                                                                       94\n",
       "Common areas only                                                                                                                                   63\n",
       "Common areas (all energy loads)                                                                                                                     50\n",
       "Tenant areas only                                                                                                                                   10\n",
       "Tenant areas (all energy loads)                                                                                                                      5\n",
       "Common Area Plug Load/Electricity, Tenant Plug Load/Electricity                                                                                      4\n",
       "Tenant Hot Water, Tenant Cooling, Tenant Heating, Common Area Heating, Tenant Plug Load/Electricity                                                  2\n",
       "Common Area Cooling, Common Area Plug Load/Electricity, Tenant Plug Load/Electricity, Tenant Cooling                                                 2\n",
       "Tenant Hot Water, Common Area Heating, Common Area Hot Water, Tenant Heating                                                                         1\n",
       "Tenant Plug Load/Electricity, Common Area Hot Water, Common Area Plug Load/Electricity, Common Area Heating                                          1\n",
       "Tenant Cooling, Common Area Hot Water, Common Area Heating, Common Area Plug Load/Electricity                                                        1\n",
       "Tenant Hot Water, Common Area Heating, Common Area Hot Water, Tenant Heating, Common Area Plug Load/Electricity, Common Area Cooling                 1\n",
       "Common Area Cooling, Common Area Plug Load/Electricity, Tenant Cooling, Common Area Heating, Tenant Heating, Tenant Plug Load/Electricity            1\n",
       "Tenant Heating, Common Area Cooling, Common Area Heating, Tenant Cooling, Common Area Plug Load/Electricity                                          1\n",
       "Tenant Cooling, Common Area Heating, Tenant Heating, Common Area Cooling, Tenant Plug Load/Electricity, Common Area Plug Load/Electricity            1\n",
       "Common Area Heating, Tenant Heating, Tenant Hot Water                                                                                                1\n",
       "Tenant Plug Load/Electricity, Common Area Plug Load/Electricity                                                                                      1\n",
       "Common Area Plug Load/Electricity, Common Area Hot Water, Common Area Heating, Tenant Hot Water, Tenant Heating                                      1\n",
       "Tenant Cooling, Common Area Cooling, Tenant Heating, Common Area Plug Load/Electricity, Common Area Heating                                          1\n",
       "Common Area Plug Load/Electricity, Tenant Cooling, Tenant Plug Load/Electricity                                                                      1\n",
       "Common Area Plug Load/Electricity, Common Area Hot Water, Common Area Cooling, Common Area Heating, Tenant Heating                                   1\n",
       "Common Area Plug Load/Electricity, Tenant Plug Load/Electricity, Common Area Hot Water, Tenant Heating, Common Area Heating, Tenant Hot Water        1\n",
       "Common Area Heating, Tenant Hot Water, Tenant Heating, Common Area Hot Water, Common Area Plug Load/Electricity                                      1\n",
       "Tenant Cooling, Common Area Heating, Common Area Cooling, Common Area Plug Load/Electricity, Tenant Heating                                          1\n",
       "Common Area Hot Water, Tenant Hot Water, Common Area Cooling, Common Area Heating, Tenant Heating, Common Area Plug Load/Electricity                 1\n",
       "Tenant Plug Load/Electricity                                                                                                                         1\n",
       "Common Area Heating, Tenant Heating, Common Area Plug Load/Electricity, Tenant Hot Water, Common Area Hot Water                                      1\n",
       "Tenant Heating, Tenant Hot Water, Common Area Heating, Common Area Hot Water, Common Area Cooling, Common Area Plug Load/Electricity                 1\n",
       "Common Area Hot Water, Common Area Heating, Common Area Cooling, Common Area Plug Load/Electricity, Tenant Heating, Tenant Hot Water                 1\n",
       "Tenant Hot Water, Common Area Cooling, Common Area Hot Water, Common Area Plug Load/Electricity, Tenant Heating, Common Area Heating                 1\n",
       "Tenant Hot Water, Tenant Heating, Common Area Hot Water, Common Area Cooling, Common Area Heating, Common Area Plug Load/Electricity                 1\n",
       "Tenant Plug Load/Electricity, Tenant Heating, Common Area Heating, Common Area Hot Water, Common Area Plug Load/Electricity, Tenant Hot Water        1\n",
       "Name: Metered Areas (Energy), dtype: int64"
      ]
     },
     "execution_count": 56,
     "metadata": {},
     "output_type": "execute_result"
    }
   ],
   "source": [
    "df_cleansed['Metered Areas (Energy)'].value_counts()"
   ]
  },
  {
   "cell_type": "code",
   "execution_count": 57,
   "id": "79d5aaef",
   "metadata": {
    "scrolled": true
   },
   "outputs": [
    {
     "name": "stdout",
     "output_type": "stream",
     "text": [
      "0        58231\n",
      "1        58231\n",
      "2        58231\n",
      "3        58231\n",
      "4        58231\n",
      "         ...  \n",
      "59319    58231\n",
      "59320    58231\n",
      "59321    58231\n",
      "59322    58231\n",
      "59323    58231\n",
      "Name: Metered Areas (Energy), Length: 59206, dtype: int64\n"
     ]
    }
   ],
   "source": [
    "# Define the frequency encoding dictionary\n",
    "frequency_dict = df_cleansed['Metered Areas (Energy)'].value_counts().to_dict()\n",
    "\n",
    "# Create a new column 'Metered Areas (Energy)_encoded' with the encoded values\n",
    "df_cleansed['Metered Areas (Energy)'] = df_cleansed['Metered Areas (Energy)'].map(frequency_dict)\n",
    "\n",
    "# Print the encoded column\n",
    "print(df_cleansed['Metered Areas (Energy)'])"
   ]
  },
  {
   "cell_type": "code",
   "execution_count": 58,
   "id": "4b3f8592",
   "metadata": {},
   "outputs": [
    {
     "data": {
      "text/plain": [
       "Whole Building                                       49630\n",
       "Not Available                                         9035\n",
       "See Primary BBL                                        447\n",
       "Tenant and/or common areas (partial energy loads)       24\n",
       "Another configuration                                   18\n",
       "Combination of common and tenant areas                  18\n",
       "Common areas (all energy loads)                         14\n",
       "Common areas only                                       13\n",
       "Tenant areas (all energy loads)                          4\n",
       "Tenant areas only                                        3\n",
       "Name: Metered Areas  (Water), dtype: int64"
      ]
     },
     "execution_count": 58,
     "metadata": {},
     "output_type": "execute_result"
    }
   ],
   "source": [
    "df_cleansed['Metered Areas  (Water)'].value_counts()"
   ]
  },
  {
   "cell_type": "code",
   "execution_count": 59,
   "id": "2ba49139",
   "metadata": {},
   "outputs": [
    {
     "name": "stdout",
     "output_type": "stream",
     "text": [
      "0        49630\n",
      "1        49630\n",
      "2        49630\n",
      "3        49630\n",
      "4        49630\n",
      "         ...  \n",
      "59319    49630\n",
      "59320    49630\n",
      "59321    49630\n",
      "59322    49630\n",
      "59323    49630\n",
      "Name: Metered Areas  (Water), Length: 59206, dtype: int64\n"
     ]
    }
   ],
   "source": [
    "# Define the frequency encoding dictionary\n",
    "frequency_dict = df_cleansed['Metered Areas  (Water)'].value_counts().to_dict()\n",
    "\n",
    "# Create a new column 'Metered Areas (Energy)_encoded' with the encoded values\n",
    "df_cleansed['Metered Areas  (Water)'] = df_cleansed['Metered Areas  (Water)'].map(frequency_dict)\n",
    "\n",
    "# Print the encoded column\n",
    "print(df_cleansed['Metered Areas  (Water)'])"
   ]
  },
  {
   "cell_type": "code",
   "execution_count": 60,
   "id": "007d7884",
   "metadata": {},
   "outputs": [
    {
     "data": {
      "text/plain": [
       "Manhattan        24136\n",
       "Brooklyn         12865\n",
       "Bronx            10813\n",
       "Queens            9821\n",
       "Staten Island     1015\n",
       "Not Available      423\n",
       "Manhattan           41\n",
       "Brooklyn            32\n",
       "brooklyn            26\n",
       "BROOKLYN            15\n",
       "bronx                8\n",
       "QUEENS               3\n",
       "BRONX                2\n",
       "staten Island        2\n",
       "STATEN ISLAND        1\n",
       "Pine Hill            1\n",
       "Patchogue            1\n",
       "staten island        1\n",
       "Name: Borough, dtype: int64"
      ]
     },
     "execution_count": 60,
     "metadata": {},
     "output_type": "execute_result"
    }
   ],
   "source": [
    "df_cleansed['Borough'].value_counts()"
   ]
  },
  {
   "cell_type": "code",
   "execution_count": 61,
   "id": "58c1c6c5",
   "metadata": {},
   "outputs": [],
   "source": [
    "# Define the frequency encoding mapping\n",
    "freq_encoding = df_cleansed['Borough'].value_counts(normalize=True).to_dict()\n",
    "\n",
    "# Apply frequency encoding to the \"Borough\" column\n",
    "df_cleansed['Borough'] = df_cleansed['Borough'].map(freq_encoding)"
   ]
  },
  {
   "cell_type": "code",
   "execution_count": 62,
   "id": "d1bdc3d8",
   "metadata": {},
   "outputs": [],
   "source": [
    "df_filtered['Year Built'] = df_filtered['Year Built'].astype(str)\n"
   ]
  },
  {
   "cell_type": "code",
   "execution_count": 63,
   "id": "c84aa814",
   "metadata": {
    "scrolled": true
   },
   "outputs": [
    {
     "data": {
      "text/html": [
       "<div>\n",
       "<style scoped>\n",
       "    .dataframe tbody tr th:only-of-type {\n",
       "        vertical-align: middle;\n",
       "    }\n",
       "\n",
       "    .dataframe tbody tr th {\n",
       "        vertical-align: top;\n",
       "    }\n",
       "\n",
       "    .dataframe thead th {\n",
       "        text-align: right;\n",
       "    }\n",
       "</style>\n",
       "<table border=\"1\" class=\"dataframe\">\n",
       "  <thead>\n",
       "    <tr style=\"text-align: right;\">\n",
       "      <th></th>\n",
       "      <th>Borough</th>\n",
       "      <th>Year Built</th>\n",
       "      <th>Metered Areas  (Water)</th>\n",
       "      <th>Metered Areas (Energy)</th>\n",
       "      <th>Total Property Types In Use</th>\n",
       "      <th>ENERGY STAR Score</th>\n",
       "      <th>Source EUI (kBtu/ft²)</th>\n",
       "      <th>District Steam Use (kBtu)</th>\n",
       "      <th>Natural Gas Use (kBtu)</th>\n",
       "      <th>Electricity Use - Grid Purchase (kBtu)</th>\n",
       "      <th>Total GHG Emissions (Metric Tons CO2e)</th>\n",
       "      <th>Water Use (All Water Sources) (kgal)</th>\n",
       "      <th>Occupancy</th>\n",
       "      <th>Total Gross Floor Area</th>\n",
       "      <th>Total Fuel Consumption</th>\n",
       "      <th>Encoded Property Types</th>\n",
       "    </tr>\n",
       "  </thead>\n",
       "  <tbody>\n",
       "    <tr>\n",
       "      <th>0</th>\n",
       "      <td>0.407661</td>\n",
       "      <td>1909.0</td>\n",
       "      <td>49630</td>\n",
       "      <td>58231</td>\n",
       "      <td>Bank Branch,Office</td>\n",
       "      <td>90.0</td>\n",
       "      <td>138.4</td>\n",
       "      <td>1133475.10</td>\n",
       "      <td>1.435755e+06</td>\n",
       "      <td>6551394.1</td>\n",
       "      <td>732.4</td>\n",
       "      <td>3635.5</td>\n",
       "      <td>95.0</td>\n",
       "      <td>169416.0</td>\n",
       "      <td>0.0</td>\n",
       "      <td>57444.0</td>\n",
       "    </tr>\n",
       "    <tr>\n",
       "      <th>1</th>\n",
       "      <td>0.165878</td>\n",
       "      <td>1963.0</td>\n",
       "      <td>49630</td>\n",
       "      <td>58231</td>\n",
       "      <td>K-12 School</td>\n",
       "      <td>100.0</td>\n",
       "      <td>43.5</td>\n",
       "      <td>2143857.95</td>\n",
       "      <td>2.068300e+06</td>\n",
       "      <td>616343.7</td>\n",
       "      <td>164.5</td>\n",
       "      <td>102.9</td>\n",
       "      <td>100.0</td>\n",
       "      <td>94380.0</td>\n",
       "      <td>0.0</td>\n",
       "      <td>52050.0</td>\n",
       "    </tr>\n",
       "    <tr>\n",
       "      <th>2</th>\n",
       "      <td>0.407661</td>\n",
       "      <td>1999.0</td>\n",
       "      <td>49630</td>\n",
       "      <td>58231</td>\n",
       "      <td>Hotel</td>\n",
       "      <td>83.0</td>\n",
       "      <td>271.1</td>\n",
       "      <td>3154240.80</td>\n",
       "      <td>8.245445e+06</td>\n",
       "      <td>8033914.4</td>\n",
       "      <td>1150.2</td>\n",
       "      <td>10762.6</td>\n",
       "      <td>85.0</td>\n",
       "      <td>125000.0</td>\n",
       "      <td>0.0</td>\n",
       "      <td>54145.0</td>\n",
       "    </tr>\n",
       "    <tr>\n",
       "      <th>3</th>\n",
       "      <td>0.407661</td>\n",
       "      <td>1994.0</td>\n",
       "      <td>49630</td>\n",
       "      <td>58231</td>\n",
       "      <td>Hotel</td>\n",
       "      <td>27.0</td>\n",
       "      <td>163.0</td>\n",
       "      <td>4164623.65</td>\n",
       "      <td>1.848519e+06</td>\n",
       "      <td>1976691.9</td>\n",
       "      <td>273.4</td>\n",
       "      <td>790.1</td>\n",
       "      <td>100.0</td>\n",
       "      <td>50000.0</td>\n",
       "      <td>0.0</td>\n",
       "      <td>54145.0</td>\n",
       "    </tr>\n",
       "    <tr>\n",
       "      <th>4</th>\n",
       "      <td>0.407661</td>\n",
       "      <td>2012.0</td>\n",
       "      <td>49630</td>\n",
       "      <td>58231</td>\n",
       "      <td>Hotel</td>\n",
       "      <td>99.0</td>\n",
       "      <td>64.2</td>\n",
       "      <td>5175006.50</td>\n",
       "      <td>1.866393e+06</td>\n",
       "      <td>1022951.6</td>\n",
       "      <td>90.7</td>\n",
       "      <td>143.0</td>\n",
       "      <td>0.0</td>\n",
       "      <td>50000.0</td>\n",
       "      <td>0.0</td>\n",
       "      <td>54145.0</td>\n",
       "    </tr>\n",
       "  </tbody>\n",
       "</table>\n",
       "</div>"
      ],
      "text/plain": [
       "    Borough  Year Built  Metered Areas  (Water)  Metered Areas (Energy)  \\\n",
       "0  0.407661      1909.0                   49630                   58231   \n",
       "1  0.165878      1963.0                   49630                   58231   \n",
       "2  0.407661      1999.0                   49630                   58231   \n",
       "3  0.407661      1994.0                   49630                   58231   \n",
       "4  0.407661      2012.0                   49630                   58231   \n",
       "\n",
       "  Total Property Types In Use  ENERGY STAR Score  Source EUI (kBtu/ft²)  \\\n",
       "0          Bank Branch,Office               90.0                  138.4   \n",
       "1                 K-12 School              100.0                   43.5   \n",
       "2                       Hotel               83.0                  271.1   \n",
       "3                       Hotel               27.0                  163.0   \n",
       "4                       Hotel               99.0                   64.2   \n",
       "\n",
       "   District Steam Use (kBtu)  Natural Gas Use (kBtu)  \\\n",
       "0                 1133475.10            1.435755e+06   \n",
       "1                 2143857.95            2.068300e+06   \n",
       "2                 3154240.80            8.245445e+06   \n",
       "3                 4164623.65            1.848519e+06   \n",
       "4                 5175006.50            1.866393e+06   \n",
       "\n",
       "   Electricity Use - Grid Purchase (kBtu)  \\\n",
       "0                               6551394.1   \n",
       "1                                616343.7   \n",
       "2                               8033914.4   \n",
       "3                               1976691.9   \n",
       "4                               1022951.6   \n",
       "\n",
       "   Total GHG Emissions (Metric Tons CO2e)  \\\n",
       "0                                   732.4   \n",
       "1                                   164.5   \n",
       "2                                  1150.2   \n",
       "3                                   273.4   \n",
       "4                                    90.7   \n",
       "\n",
       "   Water Use (All Water Sources) (kgal)  Occupancy  Total Gross Floor Area  \\\n",
       "0                                3635.5       95.0                169416.0   \n",
       "1                                 102.9      100.0                 94380.0   \n",
       "2                               10762.6       85.0                125000.0   \n",
       "3                                 790.1      100.0                 50000.0   \n",
       "4                                 143.0        0.0                 50000.0   \n",
       "\n",
       "   Total Fuel Consumption  Encoded Property Types  \n",
       "0                     0.0                 57444.0  \n",
       "1                     0.0                 52050.0  \n",
       "2                     0.0                 54145.0  \n",
       "3                     0.0                 54145.0  \n",
       "4                     0.0                 54145.0  "
      ]
     },
     "execution_count": 63,
     "metadata": {},
     "output_type": "execute_result"
    }
   ],
   "source": [
    "df_cleansed.head()"
   ]
  },
  {
   "cell_type": "code",
   "execution_count": 64,
   "id": "eacf6156",
   "metadata": {},
   "outputs": [
    {
     "data": {
      "text/plain": [
       "Borough                                   float64\n",
       "Year Built                                float64\n",
       "Metered Areas  (Water)                      int64\n",
       "Metered Areas (Energy)                      int64\n",
       "Total Property Types In Use                object\n",
       "ENERGY STAR Score                         float64\n",
       "Source EUI (kBtu/ft²)                     float64\n",
       "District Steam Use (kBtu)                 float64\n",
       "Natural Gas Use (kBtu)                    float64\n",
       "Electricity Use - Grid Purchase (kBtu)    float64\n",
       "Total GHG Emissions (Metric Tons CO2e)    float64\n",
       "Water Use (All Water Sources) (kgal)      float64\n",
       "Occupancy                                 float64\n",
       "Total Gross Floor Area                    float64\n",
       "Total Fuel Consumption                    float64\n",
       "Encoded Property Types                    float64\n",
       "dtype: object"
      ]
     },
     "execution_count": 64,
     "metadata": {},
     "output_type": "execute_result"
    }
   ],
   "source": [
    "df_cleansed.dtypes"
   ]
  },
  {
   "cell_type": "code",
   "execution_count": 65,
   "id": "377f8ba6",
   "metadata": {},
   "outputs": [
    {
     "data": {
      "text/plain": [
       "Index(['Borough', 'Year Built', 'Metered Areas  (Water)',\n",
       "       'Metered Areas (Energy)', 'Total Property Types In Use',\n",
       "       'ENERGY STAR Score', 'Source EUI (kBtu/ft²)',\n",
       "       'District Steam Use (kBtu)', 'Natural Gas Use (kBtu)',\n",
       "       'Electricity Use - Grid Purchase (kBtu)',\n",
       "       'Total GHG Emissions (Metric Tons CO2e)',\n",
       "       'Water Use (All Water Sources) (kgal)', 'Occupancy',\n",
       "       'Total Gross Floor Area', 'Total Fuel Consumption',\n",
       "       'Encoded Property Types'],\n",
       "      dtype='object')"
      ]
     },
     "execution_count": 65,
     "metadata": {},
     "output_type": "execute_result"
    }
   ],
   "source": [
    "df_cleansed.columns"
   ]
  },
  {
   "cell_type": "markdown",
   "id": "9043c145",
   "metadata": {},
   "source": [
    "# Applying model"
   ]
  },
  {
   "cell_type": "markdown",
   "id": "536afb6d",
   "metadata": {},
   "source": [
    "### Using RandomForest"
   ]
  },
  {
   "cell_type": "code",
   "execution_count": 66,
   "id": "07f49356",
   "metadata": {},
   "outputs": [],
   "source": [
    "from sklearn.ensemble import RandomForestRegressor\n",
    "from sklearn.model_selection import train_test_split\n",
    "from sklearn.metrics import mean_squared_error,r2_score"
   ]
  },
  {
   "cell_type": "code",
   "execution_count": 67,
   "id": "11f9e226",
   "metadata": {},
   "outputs": [
    {
     "data": {
      "text/html": [
       "<style>#sk-container-id-1 {color: black;background-color: white;}#sk-container-id-1 pre{padding: 0;}#sk-container-id-1 div.sk-toggleable {background-color: white;}#sk-container-id-1 label.sk-toggleable__label {cursor: pointer;display: block;width: 100%;margin-bottom: 0;padding: 0.3em;box-sizing: border-box;text-align: center;}#sk-container-id-1 label.sk-toggleable__label-arrow:before {content: \"▸\";float: left;margin-right: 0.25em;color: #696969;}#sk-container-id-1 label.sk-toggleable__label-arrow:hover:before {color: black;}#sk-container-id-1 div.sk-estimator:hover label.sk-toggleable__label-arrow:before {color: black;}#sk-container-id-1 div.sk-toggleable__content {max-height: 0;max-width: 0;overflow: hidden;text-align: left;background-color: #f0f8ff;}#sk-container-id-1 div.sk-toggleable__content pre {margin: 0.2em;color: black;border-radius: 0.25em;background-color: #f0f8ff;}#sk-container-id-1 input.sk-toggleable__control:checked~div.sk-toggleable__content {max-height: 200px;max-width: 100%;overflow: auto;}#sk-container-id-1 input.sk-toggleable__control:checked~label.sk-toggleable__label-arrow:before {content: \"▾\";}#sk-container-id-1 div.sk-estimator input.sk-toggleable__control:checked~label.sk-toggleable__label {background-color: #d4ebff;}#sk-container-id-1 div.sk-label input.sk-toggleable__control:checked~label.sk-toggleable__label {background-color: #d4ebff;}#sk-container-id-1 input.sk-hidden--visually {border: 0;clip: rect(1px 1px 1px 1px);clip: rect(1px, 1px, 1px, 1px);height: 1px;margin: -1px;overflow: hidden;padding: 0;position: absolute;width: 1px;}#sk-container-id-1 div.sk-estimator {font-family: monospace;background-color: #f0f8ff;border: 1px dotted black;border-radius: 0.25em;box-sizing: border-box;margin-bottom: 0.5em;}#sk-container-id-1 div.sk-estimator:hover {background-color: #d4ebff;}#sk-container-id-1 div.sk-parallel-item::after {content: \"\";width: 100%;border-bottom: 1px solid gray;flex-grow: 1;}#sk-container-id-1 div.sk-label:hover label.sk-toggleable__label {background-color: #d4ebff;}#sk-container-id-1 div.sk-serial::before {content: \"\";position: absolute;border-left: 1px solid gray;box-sizing: border-box;top: 0;bottom: 0;left: 50%;z-index: 0;}#sk-container-id-1 div.sk-serial {display: flex;flex-direction: column;align-items: center;background-color: white;padding-right: 0.2em;padding-left: 0.2em;position: relative;}#sk-container-id-1 div.sk-item {position: relative;z-index: 1;}#sk-container-id-1 div.sk-parallel {display: flex;align-items: stretch;justify-content: center;background-color: white;position: relative;}#sk-container-id-1 div.sk-item::before, #sk-container-id-1 div.sk-parallel-item::before {content: \"\";position: absolute;border-left: 1px solid gray;box-sizing: border-box;top: 0;bottom: 0;left: 50%;z-index: -1;}#sk-container-id-1 div.sk-parallel-item {display: flex;flex-direction: column;z-index: 1;position: relative;background-color: white;}#sk-container-id-1 div.sk-parallel-item:first-child::after {align-self: flex-end;width: 50%;}#sk-container-id-1 div.sk-parallel-item:last-child::after {align-self: flex-start;width: 50%;}#sk-container-id-1 div.sk-parallel-item:only-child::after {width: 0;}#sk-container-id-1 div.sk-dashed-wrapped {border: 1px dashed gray;margin: 0 0.4em 0.5em 0.4em;box-sizing: border-box;padding-bottom: 0.4em;background-color: white;}#sk-container-id-1 div.sk-label label {font-family: monospace;font-weight: bold;display: inline-block;line-height: 1.2em;}#sk-container-id-1 div.sk-label-container {text-align: center;}#sk-container-id-1 div.sk-container {/* jupyter's `normalize.less` sets `[hidden] { display: none; }` but bootstrap.min.css set `[hidden] { display: none !important; }` so we also need the `!important` here to be able to override the default hidden behavior on the sphinx rendered scikit-learn.org. See: https://github.com/scikit-learn/scikit-learn/issues/21755 */display: inline-block !important;position: relative;}#sk-container-id-1 div.sk-text-repr-fallback {display: none;}</style><div id=\"sk-container-id-1\" class=\"sk-top-container\"><div class=\"sk-text-repr-fallback\"><pre>RandomForestRegressor()</pre><b>In a Jupyter environment, please rerun this cell to show the HTML representation or trust the notebook. <br />On GitHub, the HTML representation is unable to render, please try loading this page with nbviewer.org.</b></div><div class=\"sk-container\" hidden><div class=\"sk-item\"><div class=\"sk-estimator sk-toggleable\"><input class=\"sk-toggleable__control sk-hidden--visually\" id=\"sk-estimator-id-1\" type=\"checkbox\" checked><label for=\"sk-estimator-id-1\" class=\"sk-toggleable__label sk-toggleable__label-arrow\">RandomForestRegressor</label><div class=\"sk-toggleable__content\"><pre>RandomForestRegressor()</pre></div></div></div></div></div>"
      ],
      "text/plain": [
       "RandomForestRegressor()"
      ]
     },
     "execution_count": 67,
     "metadata": {},
     "output_type": "execute_result"
    }
   ],
   "source": [
    "# Define the input columns and target column\n",
    "input_columns = ['Borough', 'Year Built', 'Metered Areas  (Water)', 'Metered Areas (Energy)', 'ENERGY STAR Score', 'District Steam Use (kBtu)', 'Natural Gas Use (kBtu)', 'Electricity Use - Grid Purchase (kBtu)', 'Total GHG Emissions (Metric Tons CO2e)', 'Water Use (All Water Sources) (kgal)', 'Occupancy', 'Total Gross Floor Area', 'Total Fuel Consumption', 'Encoded Property Types']\n",
    "target_column = 'Source EUI (kBtu/ft²)'\n",
    "\n",
    "# Split the data into training and testing sets\n",
    "X_train, X_test, y_train, y_test = train_test_split(df_cleansed[input_columns], df_cleansed[target_column], test_size=0.2, random_state=42)\n",
    "\n",
    "# Create a random forest regressor model\n",
    "rf_model = RandomForestRegressor()\n",
    "\n",
    "# Train the model\n",
    "rf_model.fit(X_train, y_train)\n"
   ]
  },
  {
   "cell_type": "code",
   "execution_count": 68,
   "id": "814bd098",
   "metadata": {},
   "outputs": [
    {
     "name": "stdout",
     "output_type": "stream",
     "text": [
      "Mean Squared Error: 12326675.724440392\n"
     ]
    }
   ],
   "source": [
    "# Make predictions on the test set\n",
    "y_pred = rf_model.predict(X_test)\n",
    "\n",
    "# Evaluate the model using mean squared error\n",
    "mse = mean_squared_error(y_test, y_pred)\n",
    "print(\"Mean Squared Error:\", mse)"
   ]
  },
  {
   "cell_type": "code",
   "execution_count": 69,
   "id": "0f5925dd",
   "metadata": {},
   "outputs": [],
   "source": [
    "r2 = r2_score(y_test, y_pred)"
   ]
  },
  {
   "cell_type": "code",
   "execution_count": 300,
   "id": "a7157841",
   "metadata": {},
   "outputs": [
    {
     "name": "stdout",
     "output_type": "stream",
     "text": [
      "R^2 Score: 0.8257083417255842\n"
     ]
    }
   ],
   "source": [
    "print(\"R^2 Score:\", r2)"
   ]
  },
  {
   "cell_type": "markdown",
   "id": "efcb6ea1",
   "metadata": {},
   "source": [
    "### Dimension Reduction using PCA"
   ]
  },
  {
   "cell_type": "code",
   "execution_count": 76,
   "id": "7e1b965e",
   "metadata": {},
   "outputs": [
    {
     "name": "stdout",
     "output_type": "stream",
     "text": [
      "<class 'pandas.core.frame.DataFrame'>\n",
      "Int64Index: 59206 entries, 0 to 59323\n",
      "Data columns (total 15 columns):\n",
      " #   Column                                  Non-Null Count  Dtype  \n",
      "---  ------                                  --------------  -----  \n",
      " 0   Borough                                 59206 non-null  float64\n",
      " 1   Year Built                              59206 non-null  float64\n",
      " 2   Metered Areas  (Water)                  59206 non-null  int64  \n",
      " 3   Metered Areas (Energy)                  59206 non-null  int64  \n",
      " 4   ENERGY STAR Score                       59206 non-null  float64\n",
      " 5   Source EUI (kBtu/ft²)                   59206 non-null  float64\n",
      " 6   District Steam Use (kBtu)               59206 non-null  float64\n",
      " 7   Natural Gas Use (kBtu)                  59206 non-null  float64\n",
      " 8   Electricity Use - Grid Purchase (kBtu)  59206 non-null  float64\n",
      " 9   Total GHG Emissions (Metric Tons CO2e)  59206 non-null  float64\n",
      " 10  Water Use (All Water Sources) (kgal)    59206 non-null  float64\n",
      " 11  Occupancy                               59206 non-null  float64\n",
      " 12  Total Gross Floor Area                  59206 non-null  float64\n",
      " 13  Total Fuel Consumption                  59206 non-null  float64\n",
      " 14  Encoded Property Types                  59206 non-null  float64\n",
      "dtypes: float64(13), int64(2)\n",
      "memory usage: 7.2 MB\n"
     ]
    }
   ],
   "source": [
    "df_cleansed.info()"
   ]
  },
  {
   "cell_type": "code",
   "execution_count": null,
   "id": "592aa50b",
   "metadata": {},
   "outputs": [],
   "source": []
  },
  {
   "cell_type": "code",
   "execution_count": 77,
   "id": "2efb3665",
   "metadata": {},
   "outputs": [],
   "source": [
    "from sklearn.decomposition import PCA\n",
    "from sklearn.preprocessing import StandardScaler\n",
    "# Step 3: Perform PCA\n",
    "scaler = StandardScaler()\n",
    "#df_cleansed.drop(columns = ['Total Property Types In Use'],inplace = True)\n",
    "scaled_data = scaler.fit_transform(df_cleansed)  # Standardize the data\n",
    "pca = PCA(n_components=2)  # Specify the number of components\n",
    "pca.fit(scaled_data)  # Fit the PCA model\n",
    "transformed_data = pca.transform(scaled_data)  # Transform the data to the new feature space"
   ]
  },
  {
   "cell_type": "code",
   "execution_count": null,
   "id": "8dbf9e28",
   "metadata": {},
   "outputs": [],
   "source": []
  },
  {
   "cell_type": "code",
   "execution_count": 85,
   "id": "194a9b36",
   "metadata": {},
   "outputs": [
    {
     "name": "stdout",
     "output_type": "stream",
     "text": [
      "                                  Variable  Explained Variance\n",
      "14                  Encoded Property Types        2.077346e-25\n",
      "13                  Total Fuel Consumption        1.083101e-21\n",
      "12                  Total Gross Floor Area        1.525563e-20\n",
      "11                               Occupancy        1.600472e-20\n",
      "10    Water Use (All Water Sources) (kgal)        8.345724e-16\n",
      "9   Total GHG Emissions (Metric Tons CO2e)        2.782902e-15\n",
      "8   Electricity Use - Grid Purchase (kBtu)        3.499666e-15\n",
      "7                   Natural Gas Use (kBtu)        4.100853e-15\n",
      "6                District Steam Use (kBtu)        9.733057e-13\n",
      "5                    Source EUI (kBtu/ft²)        1.027325e-12\n",
      "4                        ENERGY STAR Score        9.605699e-11\n",
      "3                   Metered Areas (Energy)        3.133339e-10\n",
      "2                   Metered Areas  (Water)        5.100719e-08\n",
      "1                               Year Built        5.223046e-04\n",
      "0                                  Borough        9.994776e-01\n"
     ]
    }
   ],
   "source": [
    "# Perform PCA\n",
    "pca = PCA()\n",
    "pca.fit(df_cleansed)\n",
    "\n",
    "# Extract the explained variance ratio\n",
    "explained_variance = pca.explained_variance_ratio_\n",
    "\n",
    "# Create a dataframe to store variable names and their corresponding explained variances\n",
    "variance_df = pd.DataFrame({'Variable': df_cleansed.columns, 'Explained Variance': explained_variance})\n",
    "\n",
    "# Sort the dataframe by explained variance in descending order\n",
    "variance_df = variance_df.sort_values(by='Explained Variance')\n",
    "\n",
    "# Print the ranked variables\n",
    "print(variance_df)"
   ]
  },
  {
   "cell_type": "code",
   "execution_count": 88,
   "id": "fd94e41a",
   "metadata": {},
   "outputs": [
    {
     "name": "stdout",
     "output_type": "stream",
     "text": [
      "                                  Variable  Explained Variance\n",
      "14                  Encoded Property Types        2.077346e-25\n",
      "13                  Total Fuel Consumption        1.083101e-21\n",
      "12                  Total Gross Floor Area        1.525563e-20\n",
      "11                               Occupancy        1.600472e-20\n",
      "10    Water Use (All Water Sources) (kgal)        8.345724e-16\n",
      "9   Total GHG Emissions (Metric Tons CO2e)        2.782902e-15\n",
      "8   Electricity Use - Grid Purchase (kBtu)        3.499666e-15\n",
      "7                   Natural Gas Use (kBtu)        4.100853e-15\n",
      "6                District Steam Use (kBtu)        9.733057e-13\n",
      "5                    Source EUI (kBtu/ft²)        1.027325e-12\n"
     ]
    }
   ],
   "source": [
    "N = 10  # Change this to the desired number of top features\n",
    "top_features = variance_df.head(N)\n",
    "print(top_features)"
   ]
  },
  {
   "cell_type": "code",
   "execution_count": 89,
   "id": "31a469aa",
   "metadata": {},
   "outputs": [
    {
     "data": {
      "text/html": [
       "<style>#sk-container-id-3 {color: black;background-color: white;}#sk-container-id-3 pre{padding: 0;}#sk-container-id-3 div.sk-toggleable {background-color: white;}#sk-container-id-3 label.sk-toggleable__label {cursor: pointer;display: block;width: 100%;margin-bottom: 0;padding: 0.3em;box-sizing: border-box;text-align: center;}#sk-container-id-3 label.sk-toggleable__label-arrow:before {content: \"▸\";float: left;margin-right: 0.25em;color: #696969;}#sk-container-id-3 label.sk-toggleable__label-arrow:hover:before {color: black;}#sk-container-id-3 div.sk-estimator:hover label.sk-toggleable__label-arrow:before {color: black;}#sk-container-id-3 div.sk-toggleable__content {max-height: 0;max-width: 0;overflow: hidden;text-align: left;background-color: #f0f8ff;}#sk-container-id-3 div.sk-toggleable__content pre {margin: 0.2em;color: black;border-radius: 0.25em;background-color: #f0f8ff;}#sk-container-id-3 input.sk-toggleable__control:checked~div.sk-toggleable__content {max-height: 200px;max-width: 100%;overflow: auto;}#sk-container-id-3 input.sk-toggleable__control:checked~label.sk-toggleable__label-arrow:before {content: \"▾\";}#sk-container-id-3 div.sk-estimator input.sk-toggleable__control:checked~label.sk-toggleable__label {background-color: #d4ebff;}#sk-container-id-3 div.sk-label input.sk-toggleable__control:checked~label.sk-toggleable__label {background-color: #d4ebff;}#sk-container-id-3 input.sk-hidden--visually {border: 0;clip: rect(1px 1px 1px 1px);clip: rect(1px, 1px, 1px, 1px);height: 1px;margin: -1px;overflow: hidden;padding: 0;position: absolute;width: 1px;}#sk-container-id-3 div.sk-estimator {font-family: monospace;background-color: #f0f8ff;border: 1px dotted black;border-radius: 0.25em;box-sizing: border-box;margin-bottom: 0.5em;}#sk-container-id-3 div.sk-estimator:hover {background-color: #d4ebff;}#sk-container-id-3 div.sk-parallel-item::after {content: \"\";width: 100%;border-bottom: 1px solid gray;flex-grow: 1;}#sk-container-id-3 div.sk-label:hover label.sk-toggleable__label {background-color: #d4ebff;}#sk-container-id-3 div.sk-serial::before {content: \"\";position: absolute;border-left: 1px solid gray;box-sizing: border-box;top: 0;bottom: 0;left: 50%;z-index: 0;}#sk-container-id-3 div.sk-serial {display: flex;flex-direction: column;align-items: center;background-color: white;padding-right: 0.2em;padding-left: 0.2em;position: relative;}#sk-container-id-3 div.sk-item {position: relative;z-index: 1;}#sk-container-id-3 div.sk-parallel {display: flex;align-items: stretch;justify-content: center;background-color: white;position: relative;}#sk-container-id-3 div.sk-item::before, #sk-container-id-3 div.sk-parallel-item::before {content: \"\";position: absolute;border-left: 1px solid gray;box-sizing: border-box;top: 0;bottom: 0;left: 50%;z-index: -1;}#sk-container-id-3 div.sk-parallel-item {display: flex;flex-direction: column;z-index: 1;position: relative;background-color: white;}#sk-container-id-3 div.sk-parallel-item:first-child::after {align-self: flex-end;width: 50%;}#sk-container-id-3 div.sk-parallel-item:last-child::after {align-self: flex-start;width: 50%;}#sk-container-id-3 div.sk-parallel-item:only-child::after {width: 0;}#sk-container-id-3 div.sk-dashed-wrapped {border: 1px dashed gray;margin: 0 0.4em 0.5em 0.4em;box-sizing: border-box;padding-bottom: 0.4em;background-color: white;}#sk-container-id-3 div.sk-label label {font-family: monospace;font-weight: bold;display: inline-block;line-height: 1.2em;}#sk-container-id-3 div.sk-label-container {text-align: center;}#sk-container-id-3 div.sk-container {/* jupyter's `normalize.less` sets `[hidden] { display: none; }` but bootstrap.min.css set `[hidden] { display: none !important; }` so we also need the `!important` here to be able to override the default hidden behavior on the sphinx rendered scikit-learn.org. See: https://github.com/scikit-learn/scikit-learn/issues/21755 */display: inline-block !important;position: relative;}#sk-container-id-3 div.sk-text-repr-fallback {display: none;}</style><div id=\"sk-container-id-3\" class=\"sk-top-container\"><div class=\"sk-text-repr-fallback\"><pre>RandomForestRegressor()</pre><b>In a Jupyter environment, please rerun this cell to show the HTML representation or trust the notebook. <br />On GitHub, the HTML representation is unable to render, please try loading this page with nbviewer.org.</b></div><div class=\"sk-container\" hidden><div class=\"sk-item\"><div class=\"sk-estimator sk-toggleable\"><input class=\"sk-toggleable__control sk-hidden--visually\" id=\"sk-estimator-id-3\" type=\"checkbox\" checked><label for=\"sk-estimator-id-3\" class=\"sk-toggleable__label sk-toggleable__label-arrow\">RandomForestRegressor</label><div class=\"sk-toggleable__content\"><pre>RandomForestRegressor()</pre></div></div></div></div></div>"
      ],
      "text/plain": [
       "RandomForestRegressor()"
      ]
     },
     "execution_count": 89,
     "metadata": {},
     "output_type": "execute_result"
    }
   ],
   "source": [
    "#Now we will take top 11 variables for implementing model\n",
    "# Define the input columns and target column\n",
    "input_columns = [ 'District Steam Use (kBtu)', 'Natural Gas Use (kBtu)', 'Electricity Use - Grid Purchase (kBtu)', \n",
    "                 'Total GHG Emissions (Metric Tons CO2e)', 'Water Use (All Water Sources) (kgal)', 'Occupancy', \n",
    "                 'Total Gross Floor Area', 'Total Fuel Consumption', 'Encoded Property Types']\n",
    "target_column = 'Source EUI (kBtu/ft²)'\n",
    "\n",
    "# Split the data into training and testing sets\n",
    "X_train, X_test, y_train, y_test = train_test_split(df_cleansed[input_columns], df_cleansed[target_column], test_size=0.2, random_state=42)\n",
    "\n",
    "# Create a random forest regressor model\n",
    "rf_model = RandomForestRegressor()\n",
    "\n",
    "# Train the model\n",
    "rf_model.fit(X_train, y_train)\n"
   ]
  },
  {
   "cell_type": "code",
   "execution_count": 90,
   "id": "aafb2a87",
   "metadata": {},
   "outputs": [
    {
     "name": "stdout",
     "output_type": "stream",
     "text": [
      "Mean Squared Error: 12135719.474216707\n"
     ]
    }
   ],
   "source": [
    "# Make predictions on the test set\n",
    "y_pred = rf_model.predict(X_test)\n",
    "\n",
    "# Evaluate the model using mean squared error\n",
    "mse = mean_squared_error(y_test, y_pred)\n",
    "print(\"Mean Squared Error:\", mse)"
   ]
  },
  {
   "cell_type": "code",
   "execution_count": 91,
   "id": "039df46f",
   "metadata": {},
   "outputs": [
    {
     "name": "stdout",
     "output_type": "stream",
     "text": [
      "R^2 Score: 0.8127300477059259\n"
     ]
    }
   ],
   "source": [
    "r2 = r2_score(y_test, y_pred)\n",
    "print(\"R^2 Score:\", r2)"
   ]
  },
  {
   "cell_type": "markdown",
   "id": "53a2587f",
   "metadata": {},
   "source": [
    "## Using  XG boost "
   ]
  },
  {
   "cell_type": "code",
   "execution_count": 96,
   "id": "25aaa885",
   "metadata": {},
   "outputs": [
    {
     "data": {
      "image/png": "[encoded data removed]",
      "text/plain": [
       "<Figure size 720x576 with 2 Axes>"
      ]
     },
     "metadata": {
      "needs_background": "light"
     },
     "output_type": "display_data"
    }
   ],
   "source": [
    "import seaborn as sns\n",
    "import matplotlib.pyplot as plt\n",
    "\n",
    "# Assuming you have a DataFrame called 'df' containing your dataset\n",
    "\n",
    "# Compute the correlation matrix\n",
    "corr_matrix = df_cleansed.corr()\n",
    "\n",
    "# Plot the correlation matrix using a heatmap\n",
    "plt.figure(figsize=(10, 8))\n",
    "sns.heatmap(corr_matrix, annot=True, cmap='coolwarm', fmt=\".2f\", linewidths=0.5)\n",
    "plt.title(\"Correlation Matrix\")\n",
    "plt.show()"
   ]
  },
  {
   "cell_type": "code",
   "execution_count": 93,
   "id": "06449d3d",
   "metadata": {},
   "outputs": [
    {
     "name": "stdout",
     "output_type": "stream",
     "text": [
      "MSE :  4980197.466162765\n",
      "RMSE :  2231.6356033552534\n",
      "R^2 Score: 0.9231490688389066\n"
     ]
    }
   ],
   "source": [
    "import xgboost as xgb\n",
    "# Split the data into training and testing sets\n",
    "x_train, x_test, y_train, y_test = train_test_split(df_cleansed[input_columns], df_cleansed[target_column], test_size=0.2, random_state=42)\n",
    "\n",
    "# Initialize the XGBoost model\n",
    "model = xgb.XGBRegressor()\n",
    "\n",
    "# Train the model\n",
    "model.fit(x_train, y_train)\n",
    "\n",
    "# Make predictions on the testing data\n",
    "y_pred = model.predict(x_test)\n",
    "\n",
    "# Evaluate the model\n",
    "mse = mean_squared_error(y_test, y_pred)\n",
    "rmse = np.sqrt(mse)\n",
    "r2 = model.score(x_test, y_test)\n",
    "print(\"MSE : \",mse)\n",
    "print(\"RMSE : \",rmse)\n",
    "print(\"R^2 Score:\",r2)"
   ]
  },
  {
   "cell_type": "code",
   "execution_count": 97,
   "id": "21531ce2",
   "metadata": {},
   "outputs": [
    {
     "data": {
      "image/png": "[encoded data removed]",
      "text/plain": [
       "<Figure size 432x288 with 1 Axes>"
      ]
     },
     "metadata": {
      "needs_background": "light"
     },
     "output_type": "display_data"
    }
   ],
   "source": [
    "# Plotting feature importance\n",
    "xgb.plot_importance(model)\n",
    "plt.title(\"XGBoost - Feature Importance\")\n",
    "plt.xlabel(\"Importance Score\")\n",
    "plt.ylabel(\"Features\")\n",
    "plt.show()"
   ]
  },
  {
   "cell_type": "markdown",
   "id": "e27eae98",
   "metadata": {},
   "source": [
    "### R2 score is relatively higher when using XGBoost Regression"
   ]
  },
  {
   "cell_type": "markdown",
   "id": "def570a2",
   "metadata": {},
   "source": [
    "### Using Cross Fold Technique"
   ]
  },
  {
   "cell_type": "code",
   "execution_count": 95,
   "id": "a089bc2a",
   "metadata": {},
   "outputs": [
    {
     "name": "stdout",
     "output_type": "stream",
     "text": [
      "Mean MSE from Cross-Validation: 17758484761.02439\n",
      "Standard Deviation of MSE from Cross-Validation: 16487795923.44658\n",
      "MSE on Test Set: 4980197.466162765\n"
     ]
    }
   ],
   "source": [
    "from sklearn.model_selection import cross_val_score\n",
    "# Perform cross-validation\n",
    "scores = cross_val_score(model, x_train, y_train, cv=5, scoring='neg_mean_squared_error')\n",
    "# Convert the negative MSE scores to positive\n",
    "mse_scores = -scores\n",
    "# Calculate the mean and standard deviation of MSE scores\n",
    "mean_mse = mse_scores.mean()\n",
    "std_mse = mse_scores.std()\n",
    "# Fit the model on the whole training data\n",
    "model.fit(x_train, y_train)\n",
    "\n",
    "# Make predictions on the test set\n",
    "y_pred = model.predict(x_test)\n",
    "# Calculate the MSE on the test set\n",
    "mse = mean_squared_error(y_test, y_pred)\n",
    "\n",
    "# Print the mean and standard deviation of MSE scores from cross-validation\n",
    "print(\"Mean MSE from Cross-Validation:\", mean_mse)\n",
    "print(\"Standard Deviation of MSE from Cross-Validation:\", std_mse)\n",
    "\n",
    "# Print the MSE on the test set\n",
    "print(\"MSE on Test Set:\", mse)"
   ]
  },
  {
   "cell_type": "markdown",
   "id": "bedfd869",
   "metadata": {},
   "source": [
    "### The MSE on the test set indicates a relatively lower prediction error on unseen data"
   ]
  },
  {
   "cell_type": "code",
   "execution_count": null,
   "id": "7eba1ed5",
   "metadata": {},
   "outputs": [],
   "source": []
  }
 ],
 "metadata": {
  "kernelspec": {
   "display_name": "Python 3 (ipykernel)",
   "language": "python",
   "name": "python3"
  },
  "language_info": {
   "codemirror_mode": {
    "name": "ipython",
    "version": 3
   },
   "file_extension": ".py",
   "mimetype": "text/x-python",
   "name": "python",
   "nbconvert_exporter": "python",
   "pygments_lexer": "ipython3",
   "version": "3.10.5"
  }
 },
 "nbformat": 4,
 "nbformat_minor": 5
}
