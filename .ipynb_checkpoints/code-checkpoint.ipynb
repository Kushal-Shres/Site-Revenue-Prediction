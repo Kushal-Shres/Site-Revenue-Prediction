{
 "cells": [
  {
   "cell_type": "markdown",
   "id": "f60d104f",
   "metadata": {
    "papermill": {
     "duration": 0.015787,
     "end_time": "2022-05-26T21:42:50.984737",
     "exception": false,
     "start_time": "2022-05-26T21:42:50.968950",
     "status": "completed"
    },
    "tags": []
   },
   "source": [
    "# Prediction of house prices in Greater Toronto Area"
   ]
  },
  {
   "cell_type": "markdown",
   "id": "c19dfb27",
   "metadata": {
    "papermill": {
     "duration": 0.014128,
     "end_time": "2022-05-26T21:42:51.041133",
     "exception": false,
     "start_time": "2022-05-26T21:42:51.027005",
     "status": "completed"
    },
    "tags": []
   },
   "source": [
    "Load the required packages.\n",
    "\n"
   ]
  },
  {
   "cell_type": "code",
   "execution_count": 1,
   "id": "7675d2a2",
   "metadata": {
    "papermill": {
     "duration": 1.671428,
     "end_time": "2022-05-26T21:42:52.726930",
     "exception": false,
     "start_time": "2022-05-26T21:42:51.055502",
     "status": "completed"
    },
    "tags": []
   },
   "outputs": [],
   "source": [
    "import os\n",
    "import time\n",
    "import numpy as np\n",
    "import pandas as pd\n",
    "import seaborn as sns\n",
    "import matplotlib.pyplot as plt\n",
    "from sklearn.metrics import accuracy_score\n",
    "from sklearn.metrics import confusion_matrix\n",
    "from sklearn.model_selection import GridSearchCV\n",
    "from sklearn.ensemble import RandomForestClassifier\n",
    "import statsmodels.api as sm\n",
    "from sklearn.model_selection import train_test_split\n",
    "from sklearn.metrics import mean_squared_error,r2_score"
   ]
  },
  {
   "cell_type": "markdown",
   "id": "5f4bc4d7",
   "metadata": {
    "papermill": {
     "duration": 0.014465,
     "end_time": "2022-05-26T21:42:52.821104",
     "exception": false,
     "start_time": "2022-05-26T21:42:52.806639",
     "status": "completed"
    },
    "tags": []
   },
   "source": [
    "# Data Extraction"
   ]
  },
  {
   "cell_type": "markdown",
   "id": "ac8ba93f-376e-49ce-8b59-3d36e4a2f3ae",
   "metadata": {
    "tags": []
   },
   "source": [
    "Data is extracted from a xlsx file"
   ]
  },
  {
   "cell_type": "code",
   "execution_count": 2,
   "id": "83d29394",
   "metadata": {
    "papermill": {
     "duration": 16.6106,
     "end_time": "2022-05-26T21:43:09.446661",
     "exception": false,
     "start_time": "2022-05-26T21:42:52.836061",
     "status": "completed"
    },
    "tags": []
   },
   "outputs": [],
   "source": [
    "path = \"GTA_propertydata.xlsx\"\n",
    "data = pd.read_excel(path)"
   ]
  },
  {
   "cell_type": "markdown",
   "id": "e9c2422c-b635-487d-9d18-509f4a1951df",
   "metadata": {},
   "source": [
    "Display first five rows of data"
   ]
  },
  {
   "cell_type": "code",
   "execution_count": 3,
   "id": "2d67d94e-8037-420d-a755-086575af90d0",
   "metadata": {
    "tags": []
   },
   "outputs": [
    {
     "data": {
      "text/html": [
       "<div>\n",
       "<style scoped>\n",
       "    .dataframe tbody tr th:only-of-type {\n",
       "        vertical-align: middle;\n",
       "    }\n",
       "\n",
       "    .dataframe tbody tr th {\n",
       "        vertical-align: top;\n",
       "    }\n",
       "\n",
       "    .dataframe thead th {\n",
       "        text-align: right;\n",
       "    }\n",
       "</style>\n",
       "<table border=\"1\" class=\"dataframe\">\n",
       "  <thead>\n",
       "    <tr style=\"text-align: right;\">\n",
       "      <th></th>\n",
       "      <th>price</th>\n",
       "      <th>region</th>\n",
       "      <th>address</th>\n",
       "      <th>bedrooms</th>\n",
       "      <th>bathrooms</th>\n",
       "      <th>pricem</th>\n",
       "    </tr>\n",
       "  </thead>\n",
       "  <tbody>\n",
       "    <tr>\n",
       "      <th>0</th>\n",
       "      <td>799000</td>\n",
       "      <td>Ajax, ON</td>\n",
       "      <td>2 ROLLO DR, Ajax, Ontario</td>\n",
       "      <td>3</td>\n",
       "      <td>3</td>\n",
       "      <td>0.799000</td>\n",
       "    </tr>\n",
       "    <tr>\n",
       "      <th>1</th>\n",
       "      <td>989000</td>\n",
       "      <td>Ajax, ON</td>\n",
       "      <td>717 OLD HARWOOD AVE, Ajax, Ontario</td>\n",
       "      <td>2</td>\n",
       "      <td>1</td>\n",
       "      <td>0.989000</td>\n",
       "    </tr>\n",
       "    <tr>\n",
       "      <th>2</th>\n",
       "      <td>999900</td>\n",
       "      <td>Ajax, ON</td>\n",
       "      <td>52 ADDLEY CRES, Ajax, Ontario</td>\n",
       "      <td>3</td>\n",
       "      <td>4</td>\n",
       "      <td>0.999900</td>\n",
       "    </tr>\n",
       "    <tr>\n",
       "      <th>3</th>\n",
       "      <td>799900</td>\n",
       "      <td>Ajax, ON</td>\n",
       "      <td>249 MONARCH AVE, Ajax, Ontario</td>\n",
       "      <td>3</td>\n",
       "      <td>3</td>\n",
       "      <td>0.799900</td>\n",
       "    </tr>\n",
       "    <tr>\n",
       "      <th>4</th>\n",
       "      <td>899999</td>\n",
       "      <td>Ajax, ON</td>\n",
       "      <td>18 MONK CRES, Ajax, Ontario</td>\n",
       "      <td>3</td>\n",
       "      <td>3</td>\n",
       "      <td>0.899999</td>\n",
       "    </tr>\n",
       "  </tbody>\n",
       "</table>\n",
       "</div>"
      ],
      "text/plain": [
       "    price    region                             address  bedrooms  bathrooms  \\\n",
       "0  799000  Ajax, ON           2 ROLLO DR, Ajax, Ontario         3          3   \n",
       "1  989000  Ajax, ON  717 OLD HARWOOD AVE, Ajax, Ontario         2          1   \n",
       "2  999900  Ajax, ON       52 ADDLEY CRES, Ajax, Ontario         3          4   \n",
       "3  799900  Ajax, ON      249 MONARCH AVE, Ajax, Ontario         3          3   \n",
       "4  899999  Ajax, ON         18 MONK CRES, Ajax, Ontario         3          3   \n",
       "\n",
       "     pricem  \n",
       "0  0.799000  \n",
       "1  0.989000  \n",
       "2  0.999900  \n",
       "3  0.799900  \n",
       "4  0.899999  "
      ]
     },
     "execution_count": 3,
     "metadata": {},
     "output_type": "execute_result"
    }
   ],
   "source": [
    "data.head()"
   ]
  },
  {
   "cell_type": "markdown",
   "id": "59075b57-9267-4610-9958-c9763708b034",
   "metadata": {},
   "source": [
    "Display last five rows of data"
   ]
  },
  {
   "cell_type": "code",
   "execution_count": 4,
   "id": "832f0438-4a38-4c2d-8553-9f15aea4dddd",
   "metadata": {
    "tags": []
   },
   "outputs": [
    {
     "data": {
      "text/html": [
       "<div>\n",
       "<style scoped>\n",
       "    .dataframe tbody tr th:only-of-type {\n",
       "        vertical-align: middle;\n",
       "    }\n",
       "\n",
       "    .dataframe tbody tr th {\n",
       "        vertical-align: top;\n",
       "    }\n",
       "\n",
       "    .dataframe thead th {\n",
       "        text-align: right;\n",
       "    }\n",
       "</style>\n",
       "<table border=\"1\" class=\"dataframe\">\n",
       "  <thead>\n",
       "    <tr style=\"text-align: right;\">\n",
       "      <th></th>\n",
       "      <th>price</th>\n",
       "      <th>region</th>\n",
       "      <th>address</th>\n",
       "      <th>bedrooms</th>\n",
       "      <th>bathrooms</th>\n",
       "      <th>pricem</th>\n",
       "    </tr>\n",
       "  </thead>\n",
       "  <tbody>\n",
       "    <tr>\n",
       "      <th>7319</th>\n",
       "      <td>1899000</td>\n",
       "      <td>Scarborough, Toronto, ON</td>\n",
       "      <td>#MAIN UN -2977 LAWRENCE AVE E AVE, Toronto, On...</td>\n",
       "      <td>8</td>\n",
       "      <td>4</td>\n",
       "      <td>1.89900</td>\n",
       "    </tr>\n",
       "    <tr>\n",
       "      <th>7320</th>\n",
       "      <td>752880</td>\n",
       "      <td>Scarborough, Toronto, ON</td>\n",
       "      <td>#406 -3220 SHEPPARD AVE E, Toronto, Ontario</td>\n",
       "      <td>2</td>\n",
       "      <td>2</td>\n",
       "      <td>0.75288</td>\n",
       "    </tr>\n",
       "    <tr>\n",
       "      <th>7321</th>\n",
       "      <td>1150000</td>\n",
       "      <td>Scarborough, Toronto, ON</td>\n",
       "      <td>#902 -2799 KINGSTON RD, Toronto, Ontario</td>\n",
       "      <td>3</td>\n",
       "      <td>3</td>\n",
       "      <td>1.15000</td>\n",
       "    </tr>\n",
       "    <tr>\n",
       "      <th>7322</th>\n",
       "      <td>550000</td>\n",
       "      <td>Scarborough, Toronto, ON</td>\n",
       "      <td>#506 -2201 KINGSTON RD, Toronto, Ontario</td>\n",
       "      <td>1</td>\n",
       "      <td>1</td>\n",
       "      <td>0.55000</td>\n",
       "    </tr>\n",
       "    <tr>\n",
       "      <th>7323</th>\n",
       "      <td>1820000</td>\n",
       "      <td>Scarborough, Toronto, ON</td>\n",
       "      <td>103 SLAN AVE, Toronto, Ontario</td>\n",
       "      <td>7</td>\n",
       "      <td>4</td>\n",
       "      <td>1.82000</td>\n",
       "    </tr>\n",
       "  </tbody>\n",
       "</table>\n",
       "</div>"
      ],
      "text/plain": [
       "        price                    region  \\\n",
       "7319  1899000  Scarborough, Toronto, ON   \n",
       "7320   752880  Scarborough, Toronto, ON   \n",
       "7321  1150000  Scarborough, Toronto, ON   \n",
       "7322   550000  Scarborough, Toronto, ON   \n",
       "7323  1820000  Scarborough, Toronto, ON   \n",
       "\n",
       "                                                address  bedrooms  bathrooms  \\\n",
       "7319  #MAIN UN -2977 LAWRENCE AVE E AVE, Toronto, On...         8          4   \n",
       "7320        #406 -3220 SHEPPARD AVE E, Toronto, Ontario         2          2   \n",
       "7321           #902 -2799 KINGSTON RD, Toronto, Ontario         3          3   \n",
       "7322           #506 -2201 KINGSTON RD, Toronto, Ontario         1          1   \n",
       "7323                     103 SLAN AVE, Toronto, Ontario         7          4   \n",
       "\n",
       "       pricem  \n",
       "7319  1.89900  \n",
       "7320  0.75288  \n",
       "7321  1.15000  \n",
       "7322  0.55000  \n",
       "7323  1.82000  "
      ]
     },
     "execution_count": 4,
     "metadata": {},
     "output_type": "execute_result"
    }
   ],
   "source": [
    "data.tail()"
   ]
  },
  {
   "cell_type": "markdown",
   "id": "99e00abb",
   "metadata": {
    "papermill": {
     "duration": 0.01555,
     "end_time": "2022-05-26T21:43:09.478252",
     "exception": false,
     "start_time": "2022-05-26T21:43:09.462702",
     "status": "completed"
    },
    "tags": []
   },
   "source": [
    "# Data Validation and Cleansing"
   ]
  },
  {
   "cell_type": "markdown",
   "id": "4107072e-af50-4e96-b495-53846cbf2ab3",
   "metadata": {
    "tags": []
   },
   "source": [
    "View all features in the dataset"
   ]
  },
  {
   "cell_type": "code",
   "execution_count": 5,
   "id": "55b13c9b-2baa-4e66-9d5c-aa677535b17d",
   "metadata": {
    "tags": []
   },
   "outputs": [
    {
     "data": {
      "text/plain": [
       "Index(['price', 'region', 'address', 'bedrooms', 'bathrooms', 'pricem'], dtype='object')"
      ]
     },
     "execution_count": 5,
     "metadata": {},
     "output_type": "execute_result"
    }
   ],
   "source": [
    "data.columns"
   ]
  },
  {
   "cell_type": "markdown",
   "id": "5e851cb5-8f11-4cdc-89ab-bff29c5208e5",
   "metadata": {},
   "source": [
    "View number and rows of dataset"
   ]
  },
  {
   "cell_type": "code",
   "execution_count": 6,
   "id": "6bdbfb6a-8169-4e5f-aab1-03b94adbb3ad",
   "metadata": {
    "tags": []
   },
   "outputs": [
    {
     "data": {
      "text/plain": [
       "(7324, 6)"
      ]
     },
     "execution_count": 6,
     "metadata": {},
     "output_type": "execute_result"
    }
   ],
   "source": [
    "data.shape"
   ]
  },
  {
   "cell_type": "markdown",
   "id": "1a9f531d-4956-43c4-bbec-e3cdb150bb2a",
   "metadata": {},
   "source": [
    "View descriptive summary such as mean, min, max, standard deviation and percentiles"
   ]
  },
  {
   "cell_type": "code",
   "execution_count": 7,
   "id": "614af216-747d-4a85-99e4-c058afa5d557",
   "metadata": {
    "tags": []
   },
   "outputs": [
    {
     "data": {
      "text/html": [
       "<div>\n",
       "<style scoped>\n",
       "    .dataframe tbody tr th:only-of-type {\n",
       "        vertical-align: middle;\n",
       "    }\n",
       "\n",
       "    .dataframe tbody tr th {\n",
       "        vertical-align: top;\n",
       "    }\n",
       "\n",
       "    .dataframe thead th {\n",
       "        text-align: right;\n",
       "    }\n",
       "</style>\n",
       "<table border=\"1\" class=\"dataframe\">\n",
       "  <thead>\n",
       "    <tr style=\"text-align: right;\">\n",
       "      <th></th>\n",
       "      <th>price</th>\n",
       "      <th>bedrooms</th>\n",
       "      <th>bathrooms</th>\n",
       "      <th>pricem</th>\n",
       "    </tr>\n",
       "  </thead>\n",
       "  <tbody>\n",
       "    <tr>\n",
       "      <th>count</th>\n",
       "      <td>7.324000e+03</td>\n",
       "      <td>7324.000000</td>\n",
       "      <td>7324.000000</td>\n",
       "      <td>7324.000000</td>\n",
       "    </tr>\n",
       "    <tr>\n",
       "      <th>mean</th>\n",
       "      <td>1.444227e+06</td>\n",
       "      <td>3.062125</td>\n",
       "      <td>2.976106</td>\n",
       "      <td>1.444227</td>\n",
       "    </tr>\n",
       "    <tr>\n",
       "      <th>std</th>\n",
       "      <td>1.347525e+06</td>\n",
       "      <td>1.087886</td>\n",
       "      <td>1.401255</td>\n",
       "      <td>1.347525</td>\n",
       "    </tr>\n",
       "    <tr>\n",
       "      <th>min</th>\n",
       "      <td>3.590000e+05</td>\n",
       "      <td>0.000000</td>\n",
       "      <td>0.000000</td>\n",
       "      <td>0.359000</td>\n",
       "    </tr>\n",
       "    <tr>\n",
       "      <th>25%</th>\n",
       "      <td>7.997942e+05</td>\n",
       "      <td>2.000000</td>\n",
       "      <td>2.000000</td>\n",
       "      <td>0.799794</td>\n",
       "    </tr>\n",
       "    <tr>\n",
       "      <th>50%</th>\n",
       "      <td>1.099000e+06</td>\n",
       "      <td>3.000000</td>\n",
       "      <td>3.000000</td>\n",
       "      <td>1.099000</td>\n",
       "    </tr>\n",
       "    <tr>\n",
       "      <th>75%</th>\n",
       "      <td>1.599999e+06</td>\n",
       "      <td>4.000000</td>\n",
       "      <td>4.000000</td>\n",
       "      <td>1.599999</td>\n",
       "    </tr>\n",
       "    <tr>\n",
       "      <th>max</th>\n",
       "      <td>2.797500e+07</td>\n",
       "      <td>9.000000</td>\n",
       "      <td>15.000000</td>\n",
       "      <td>27.975000</td>\n",
       "    </tr>\n",
       "  </tbody>\n",
       "</table>\n",
       "</div>"
      ],
      "text/plain": [
       "              price     bedrooms    bathrooms       pricem\n",
       "count  7.324000e+03  7324.000000  7324.000000  7324.000000\n",
       "mean   1.444227e+06     3.062125     2.976106     1.444227\n",
       "std    1.347525e+06     1.087886     1.401255     1.347525\n",
       "min    3.590000e+05     0.000000     0.000000     0.359000\n",
       "25%    7.997942e+05     2.000000     2.000000     0.799794\n",
       "50%    1.099000e+06     3.000000     3.000000     1.099000\n",
       "75%    1.599999e+06     4.000000     4.000000     1.599999\n",
       "max    2.797500e+07     9.000000    15.000000    27.975000"
      ]
     },
     "execution_count": 7,
     "metadata": {},
     "output_type": "execute_result"
    }
   ],
   "source": [
    "data.describe()"
   ]
  },
  {
   "cell_type": "markdown",
   "id": "2065b0bf-6881-408a-bb1d-0b7e9e1c41eb",
   "metadata": {},
   "source": [
    "Find number of unique values for each feature"
   ]
  },
  {
   "cell_type": "code",
   "execution_count": 8,
   "id": "3bc5f8cc-adf2-4eb3-8c19-8f65cf40269d",
   "metadata": {
    "tags": []
   },
   "outputs": [
    {
     "data": {
      "text/plain": [
       "price        1492\n",
       "region         31\n",
       "address      7287\n",
       "bedrooms       10\n",
       "bathrooms      15\n",
       "pricem       1492\n",
       "dtype: int64"
      ]
     },
     "execution_count": 8,
     "metadata": {},
     "output_type": "execute_result"
    }
   ],
   "source": [
    "data.nunique()"
   ]
  },
  {
   "cell_type": "markdown",
   "id": "f8a2ac46-72d8-4f62-98ac-fcc72a711feb",
   "metadata": {
    "tags": []
   },
   "source": [
    "Check for null values in the dataset"
   ]
  },
  {
   "cell_type": "code",
   "execution_count": 9,
   "id": "b0c63b16-d687-4bcc-98f6-c4e569a21520",
   "metadata": {
    "tags": []
   },
   "outputs": [
    {
     "data": {
      "text/plain": [
       "price        0\n",
       "region       0\n",
       "address      0\n",
       "bedrooms     0\n",
       "bathrooms    0\n",
       "pricem       0\n",
       "dtype: int64"
      ]
     },
     "execution_count": 9,
     "metadata": {},
     "output_type": "execute_result"
    }
   ],
   "source": [
    "data.isnull().sum()"
   ]
  },
  {
   "cell_type": "markdown",
   "id": "dd6623d7",
   "metadata": {
    "papermill": {
     "duration": 0.015118,
     "end_time": "2022-05-26T21:43:09.508799",
     "exception": false,
     "start_time": "2022-05-26T21:43:09.493681",
     "status": "completed"
    },
    "tags": []
   },
   "source": [
    "Drop the **address** column from the dataset."
   ]
  },
  {
   "cell_type": "code",
   "execution_count": 10,
   "id": "fa01b8ab",
   "metadata": {
    "papermill": {
     "duration": 0.039757,
     "end_time": "2022-05-26T21:43:09.564003",
     "exception": false,
     "start_time": "2022-05-26T21:43:09.524246",
     "status": "completed"
    },
    "tags": []
   },
   "outputs": [],
   "source": [
    "data.drop(columns= [\"address\"], inplace= True)"
   ]
  },
  {
   "cell_type": "markdown",
   "id": "a747bcd6",
   "metadata": {
    "papermill": {
     "duration": 0.015444,
     "end_time": "2022-05-26T21:43:09.595589",
     "exception": false,
     "start_time": "2022-05-26T21:43:09.580145",
     "status": "completed"
    },
    "tags": []
   },
   "source": [
    "Remove \", ON\" from each region name in the **region** column."
   ]
  },
  {
   "cell_type": "code",
   "execution_count": 11,
   "id": "b836c725",
   "metadata": {
    "papermill": {
     "duration": 0.049024,
     "end_time": "2022-05-26T21:43:09.660333",
     "exception": false,
     "start_time": "2022-05-26T21:43:09.611309",
     "status": "completed"
    },
    "tags": []
   },
   "outputs": [
    {
     "data": {
      "text/html": [
       "<div>\n",
       "<style scoped>\n",
       "    .dataframe tbody tr th:only-of-type {\n",
       "        vertical-align: middle;\n",
       "    }\n",
       "\n",
       "    .dataframe tbody tr th {\n",
       "        vertical-align: top;\n",
       "    }\n",
       "\n",
       "    .dataframe thead th {\n",
       "        text-align: right;\n",
       "    }\n",
       "</style>\n",
       "<table border=\"1\" class=\"dataframe\">\n",
       "  <thead>\n",
       "    <tr style=\"text-align: right;\">\n",
       "      <th></th>\n",
       "      <th>price</th>\n",
       "      <th>region</th>\n",
       "      <th>bedrooms</th>\n",
       "      <th>bathrooms</th>\n",
       "      <th>pricem</th>\n",
       "    </tr>\n",
       "  </thead>\n",
       "  <tbody>\n",
       "    <tr>\n",
       "      <th>0</th>\n",
       "      <td>799000</td>\n",
       "      <td>Ajax</td>\n",
       "      <td>3</td>\n",
       "      <td>3</td>\n",
       "      <td>0.799000</td>\n",
       "    </tr>\n",
       "    <tr>\n",
       "      <th>1</th>\n",
       "      <td>989000</td>\n",
       "      <td>Ajax</td>\n",
       "      <td>2</td>\n",
       "      <td>1</td>\n",
       "      <td>0.989000</td>\n",
       "    </tr>\n",
       "    <tr>\n",
       "      <th>2</th>\n",
       "      <td>999900</td>\n",
       "      <td>Ajax</td>\n",
       "      <td>3</td>\n",
       "      <td>4</td>\n",
       "      <td>0.999900</td>\n",
       "    </tr>\n",
       "    <tr>\n",
       "      <th>3</th>\n",
       "      <td>799900</td>\n",
       "      <td>Ajax</td>\n",
       "      <td>3</td>\n",
       "      <td>3</td>\n",
       "      <td>0.799900</td>\n",
       "    </tr>\n",
       "    <tr>\n",
       "      <th>4</th>\n",
       "      <td>899999</td>\n",
       "      <td>Ajax</td>\n",
       "      <td>3</td>\n",
       "      <td>3</td>\n",
       "      <td>0.899999</td>\n",
       "    </tr>\n",
       "  </tbody>\n",
       "</table>\n",
       "</div>"
      ],
      "text/plain": [
       "    price region  bedrooms  bathrooms    pricem\n",
       "0  799000  Ajax          3          3  0.799000\n",
       "1  989000  Ajax          2          1  0.989000\n",
       "2  999900  Ajax          3          4  0.999900\n",
       "3  799900  Ajax          3          3  0.799900\n",
       "4  899999  Ajax          3          3  0.899999"
      ]
     },
     "execution_count": 11,
     "metadata": {},
     "output_type": "execute_result"
    }
   ],
   "source": [
    "data[\"region\"] = data[\"region\"].str.replace(\",\", \"\")\n",
    "data[\"region\"] = data[\"region\"].str.replace(\"ON\", \"\")\n",
    "data.head()"
   ]
  },
  {
   "cell_type": "markdown",
   "id": "3a7863d4",
   "metadata": {
    "papermill": {
     "duration": 0.016036,
     "end_time": "2022-05-26T21:43:09.692530",
     "exception": false,
     "start_time": "2022-05-26T21:43:09.676494",
     "status": "completed"
    },
    "tags": []
   },
   "source": [
    "Check missing values."
   ]
  },
  {
   "cell_type": "code",
   "execution_count": 12,
   "id": "43837aec",
   "metadata": {
    "papermill": {
     "duration": 0.029149,
     "end_time": "2022-05-26T21:43:09.737631",
     "exception": false,
     "start_time": "2022-05-26T21:43:09.708482",
     "status": "completed"
    },
    "tags": []
   },
   "outputs": [
    {
     "data": {
      "text/plain": [
       "price        0\n",
       "region       0\n",
       "bedrooms     0\n",
       "bathrooms    0\n",
       "pricem       0\n",
       "dtype: int64"
      ]
     },
     "execution_count": 12,
     "metadata": {},
     "output_type": "execute_result"
    }
   ],
   "source": [
    "data.isna().sum()"
   ]
  },
  {
   "cell_type": "markdown",
   "id": "47c44f2f",
   "metadata": {
    "papermill": {
     "duration": 0.01593,
     "end_time": "2022-05-26T21:43:09.769879",
     "exception": false,
     "start_time": "2022-05-26T21:43:09.753949",
     "status": "completed"
    },
    "tags": []
   },
   "source": [
    "Keep properties with at least one bedroom, and at least one bathroom."
   ]
  },
  {
   "cell_type": "code",
   "execution_count": 13,
   "id": "31183c78",
   "metadata": {
    "papermill": {
     "duration": 0.027607,
     "end_time": "2022-05-26T21:43:09.813995",
     "exception": false,
     "start_time": "2022-05-26T21:43:09.786388",
     "status": "completed"
    },
    "tags": []
   },
   "outputs": [],
   "source": [
    "data = data[data.bedrooms > 0]\n",
    "data = data[data.bathrooms > 0]"
   ]
  },
  {
   "cell_type": "markdown",
   "id": "0ab89209-d519-4dec-8f52-913cf81ad1f9",
   "metadata": {},
   "source": [
    "# Data Analysis"
   ]
  },
  {
   "cell_type": "markdown",
   "id": "0ea1af9e-0bda-4d6b-aaf7-d9fe155d98be",
   "metadata": {},
   "source": [
    "View information about feature datatypes, null values and label"
   ]
  },
  {
   "cell_type": "code",
   "execution_count": 14,
   "id": "1ccf8b44-e148-4d3c-a023-8ade5b19c7d1",
   "metadata": {
    "tags": []
   },
   "outputs": [
    {
     "name": "stdout",
     "output_type": "stream",
     "text": [
      "<class 'pandas.core.frame.DataFrame'>\n",
      "Int64Index: 7269 entries, 0 to 7323\n",
      "Data columns (total 5 columns):\n",
      " #   Column     Non-Null Count  Dtype  \n",
      "---  ------     --------------  -----  \n",
      " 0   price      7269 non-null   int64  \n",
      " 1   region     7269 non-null   object \n",
      " 2   bedrooms   7269 non-null   int64  \n",
      " 3   bathrooms  7269 non-null   int64  \n",
      " 4   pricem     7269 non-null   float64\n",
      "dtypes: float64(1), int64(3), object(1)\n",
      "memory usage: 340.7+ KB\n"
     ]
    }
   ],
   "source": [
    "data.info()"
   ]
  },
  {
   "cell_type": "markdown",
   "id": "27b53e05-0bae-4b35-8e5e-0e8bdc81d843",
   "metadata": {
    "tags": []
   },
   "source": [
    "Generate correlation heatmap of features"
   ]
  },
  {
   "cell_type": "code",
   "execution_count": 15,
   "id": "ec202bcc-0847-4ebf-82dd-7a49cb95f031",
   "metadata": {
    "tags": []
   },
   "outputs": [
    {
     "name": "stderr",
     "output_type": "stream",
     "text": [
      "C:\\Users\\shres\\AppData\\Local\\Temp\\ipykernel_8016\\2235172361.py:1: FutureWarning: The default value of numeric_only in DataFrame.corr is deprecated. In a future version, it will default to False. Select only valid columns or specify the value of numeric_only to silence this warning.\n",
      "  sns.heatmap(data.corr(),vmin = -1, vmax = 1, annot = True)\n"
     ]
    },
    {
     "data": {
      "text/plain": [
       "<Axes: >"
      ]
     },
     "execution_count": 15,
     "metadata": {},
     "output_type": "execute_result"
    },
    {
     "data": {
      "image/png": "[encoded data removed]",
      "text/plain": [
       "<Figure size 640x480 with 2 Axes>"
      ]
     },
     "metadata": {},
     "output_type": "display_data"
    }
   ],
   "source": [
    "sns.heatmap(data.corr(),vmin = -1, vmax = 1, annot = True)"
   ]
  },
  {
   "cell_type": "markdown",
   "id": "6befbb28-975c-42ad-8d90-cf76086729cb",
   "metadata": {},
   "source": [
    "Plot a graph of price of houses"
   ]
  },
  {
   "cell_type": "code",
   "execution_count": 16,
   "id": "48dbeb14-8b77-41c1-a212-f2baa7e38d1f",
   "metadata": {
    "tags": []
   },
   "outputs": [
    {
     "data": {
      "image/png": "[encoded data removed]",
      "text/plain": [
       "<Figure size 500x500 with 1 Axes>"
      ]
     },
     "metadata": {},
     "output_type": "display_data"
    }
   ],
   "source": [
    "\n",
    "sns.displot(data['price'], kde=True)\n",
    "plt.show()"
   ]
  },
  {
   "cell_type": "markdown",
   "id": "2d5ee0ac-01c8-4454-a22d-7297c0a912bb",
   "metadata": {},
   "source": [
    "View the skewness of data"
   ]
  },
  {
   "cell_type": "code",
   "execution_count": 17,
   "id": "3bbb7959-1ffd-41bd-ab6d-dfbbe782fb36",
   "metadata": {
    "tags": []
   },
   "outputs": [
    {
     "name": "stdout",
     "output_type": "stream",
     "text": [
      "price        6.823174\n",
      "bedrooms     0.267167\n",
      "bathrooms    1.251010\n",
      "pricem       6.823174\n",
      "dtype: float64\n"
     ]
    }
   ],
   "source": [
    "skewness = data[['price','bedrooms','bathrooms','pricem']].skew()\n",
    "print(skewness)"
   ]
  },
  {
   "cell_type": "markdown",
   "id": "eb880845-f392-4f64-8ab3-952a33801409",
   "metadata": {},
   "source": [
    "Data is heavily left skewed "
   ]
  },
  {
   "cell_type": "markdown",
   "id": "8e45e297-7ca5-4153-869e-7fabd3db24c0",
   "metadata": {
    "papermill": {
     "duration": 0.025806,
     "end_time": "2022-05-26T21:43:09.856091",
     "exception": false,
     "start_time": "2022-05-26T21:43:09.830285",
     "status": "completed"
    },
    "tags": []
   },
   "source": [
    "Boxplot of price"
   ]
  },
  {
   "cell_type": "code",
   "execution_count": 18,
   "id": "8f3576e4-0836-4d68-aa0e-2309e01df63b",
   "metadata": {
    "tags": []
   },
   "outputs": [
    {
     "data": {
      "image/png": "[encoded data removed]",
      "text/plain": [
       "<Figure size 800x200 with 1 Axes>"
      ]
     },
     "metadata": {},
     "output_type": "display_data"
    }
   ],
   "source": [
    "plt.figure(figsize=(8,2))\n",
    "sns.boxplot(x= data['price'])\n",
    "plt.title('Distribution of prices')\n",
    "plt.show()"
   ]
  },
  {
   "cell_type": "code",
   "execution_count": 19,
   "id": "f49b0f06-45b5-4130-bfe0-113cd97b1daa",
   "metadata": {
    "tags": []
   },
   "outputs": [
    {
     "data": {
      "image/png": "[encoded data removed]",
      "text/plain": [
       "<Figure size 640x480 with 1 Axes>"
      ]
     },
     "metadata": {},
     "output_type": "display_data"
    }
   ],
   "source": [
    "sns.histplot(data['price'])\n",
    "plt.title('Distribution of price')\n",
    "plt.show()"
   ]
  },
  {
   "cell_type": "markdown",
   "id": "f0fef52c",
   "metadata": {
    "papermill": {
     "duration": 0.016219,
     "end_time": "2022-05-26T21:43:09.888957",
     "exception": false,
     "start_time": "2022-05-26T21:43:09.872738",
     "status": "completed"
    },
    "tags": []
   },
   "source": [
    "The no. of listings and median property price in each region."
   ]
  },
  {
   "cell_type": "code",
   "execution_count": 20,
   "id": "d4784c2a",
   "metadata": {
    "papermill": {
     "duration": 0.062379,
     "end_time": "2022-05-26T21:43:09.967595",
     "exception": false,
     "start_time": "2022-05-26T21:43:09.905216",
     "status": "completed"
    },
    "tags": []
   },
   "outputs": [
    {
     "data": {
      "text/html": [
       "<div>\n",
       "<style scoped>\n",
       "    .dataframe tbody tr th:only-of-type {\n",
       "        vertical-align: middle;\n",
       "    }\n",
       "\n",
       "    .dataframe tbody tr th {\n",
       "        vertical-align: top;\n",
       "    }\n",
       "\n",
       "    .dataframe thead th {\n",
       "        text-align: right;\n",
       "    }\n",
       "</style>\n",
       "<table border=\"1\" class=\"dataframe\">\n",
       "  <thead>\n",
       "    <tr style=\"text-align: right;\">\n",
       "      <th></th>\n",
       "      <th>region</th>\n",
       "      <th>Median price in million</th>\n",
       "      <th>No. of listing</th>\n",
       "    </tr>\n",
       "  </thead>\n",
       "  <tbody>\n",
       "    <tr>\n",
       "      <th>0</th>\n",
       "      <td>King</td>\n",
       "      <td>2.969000</td>\n",
       "      <td>56</td>\n",
       "    </tr>\n",
       "    <tr>\n",
       "      <th>1</th>\n",
       "      <td>Caledon</td>\n",
       "      <td>1.899000</td>\n",
       "      <td>132</td>\n",
       "    </tr>\n",
       "    <tr>\n",
       "      <th>2</th>\n",
       "      <td>Oakville</td>\n",
       "      <td>1.799450</td>\n",
       "      <td>422</td>\n",
       "    </tr>\n",
       "    <tr>\n",
       "      <th>3</th>\n",
       "      <td>Richmond Hill</td>\n",
       "      <td>1.698500</td>\n",
       "      <td>382</td>\n",
       "    </tr>\n",
       "    <tr>\n",
       "      <th>4</th>\n",
       "      <td>East Gwillimbury</td>\n",
       "      <td>1.688500</td>\n",
       "      <td>92</td>\n",
       "    </tr>\n",
       "    <tr>\n",
       "      <th>5</th>\n",
       "      <td>Aurora</td>\n",
       "      <td>1.688000</td>\n",
       "      <td>130</td>\n",
       "    </tr>\n",
       "    <tr>\n",
       "      <th>6</th>\n",
       "      <td>Whitchurch-Stouffville</td>\n",
       "      <td>1.499000</td>\n",
       "      <td>98</td>\n",
       "    </tr>\n",
       "    <tr>\n",
       "      <th>7</th>\n",
       "      <td>Markham</td>\n",
       "      <td>1.399450</td>\n",
       "      <td>482</td>\n",
       "    </tr>\n",
       "    <tr>\n",
       "      <th>8</th>\n",
       "      <td>Vaughan</td>\n",
       "      <td>1.399000</td>\n",
       "      <td>478</td>\n",
       "    </tr>\n",
       "    <tr>\n",
       "      <th>9</th>\n",
       "      <td>Halton Hills</td>\n",
       "      <td>1.397000</td>\n",
       "      <td>80</td>\n",
       "    </tr>\n",
       "    <tr>\n",
       "      <th>10</th>\n",
       "      <td>Uxbridge</td>\n",
       "      <td>1.314000</td>\n",
       "      <td>18</td>\n",
       "    </tr>\n",
       "    <tr>\n",
       "      <th>11</th>\n",
       "      <td>Milton</td>\n",
       "      <td>1.299900</td>\n",
       "      <td>215</td>\n",
       "    </tr>\n",
       "    <tr>\n",
       "      <th>12</th>\n",
       "      <td>Newmarket</td>\n",
       "      <td>1.299000</td>\n",
       "      <td>139</td>\n",
       "    </tr>\n",
       "    <tr>\n",
       "      <th>13</th>\n",
       "      <td>Brampton</td>\n",
       "      <td>1.199000</td>\n",
       "      <td>597</td>\n",
       "    </tr>\n",
       "    <tr>\n",
       "      <th>14</th>\n",
       "      <td>Scugog</td>\n",
       "      <td>1.174900</td>\n",
       "      <td>16</td>\n",
       "    </tr>\n",
       "    <tr>\n",
       "      <th>15</th>\n",
       "      <td>Burlington</td>\n",
       "      <td>1.149900</td>\n",
       "      <td>306</td>\n",
       "    </tr>\n",
       "    <tr>\n",
       "      <th>16</th>\n",
       "      <td>Whitby</td>\n",
       "      <td>1.099000</td>\n",
       "      <td>130</td>\n",
       "    </tr>\n",
       "    <tr>\n",
       "      <th>17</th>\n",
       "      <td>Pickering</td>\n",
       "      <td>0.999950</td>\n",
       "      <td>84</td>\n",
       "    </tr>\n",
       "    <tr>\n",
       "      <th>18</th>\n",
       "      <td>Ajax</td>\n",
       "      <td>0.999000</td>\n",
       "      <td>114</td>\n",
       "    </tr>\n",
       "    <tr>\n",
       "      <th>19</th>\n",
       "      <td>Mississauga</td>\n",
       "      <td>0.999000</td>\n",
       "      <td>579</td>\n",
       "    </tr>\n",
       "    <tr>\n",
       "      <th>20</th>\n",
       "      <td>Georgina</td>\n",
       "      <td>0.999000</td>\n",
       "      <td>118</td>\n",
       "    </tr>\n",
       "    <tr>\n",
       "      <th>21</th>\n",
       "      <td>Scarborough Toronto</td>\n",
       "      <td>0.988000</td>\n",
       "      <td>414</td>\n",
       "    </tr>\n",
       "    <tr>\n",
       "      <th>22</th>\n",
       "      <td>Clarington</td>\n",
       "      <td>0.899999</td>\n",
       "      <td>127</td>\n",
       "    </tr>\n",
       "    <tr>\n",
       "      <th>23</th>\n",
       "      <td>Oshawa</td>\n",
       "      <td>0.899000</td>\n",
       "      <td>234</td>\n",
       "    </tr>\n",
       "    <tr>\n",
       "      <th>24</th>\n",
       "      <td>Brock</td>\n",
       "      <td>0.899000</td>\n",
       "      <td>26</td>\n",
       "    </tr>\n",
       "    <tr>\n",
       "      <th>25</th>\n",
       "      <td>Guelph</td>\n",
       "      <td>0.898988</td>\n",
       "      <td>186</td>\n",
       "    </tr>\n",
       "    <tr>\n",
       "      <th>26</th>\n",
       "      <td>Old Toronto Toronto</td>\n",
       "      <td>0.839000</td>\n",
       "      <td>444</td>\n",
       "    </tr>\n",
       "    <tr>\n",
       "      <th>27</th>\n",
       "      <td>Brantford</td>\n",
       "      <td>0.799999</td>\n",
       "      <td>131</td>\n",
       "    </tr>\n",
       "    <tr>\n",
       "      <th>28</th>\n",
       "      <td>Hamilton</td>\n",
       "      <td>0.799900</td>\n",
       "      <td>579</td>\n",
       "    </tr>\n",
       "    <tr>\n",
       "      <th>29</th>\n",
       "      <td>Cambridge</td>\n",
       "      <td>0.799900</td>\n",
       "      <td>163</td>\n",
       "    </tr>\n",
       "    <tr>\n",
       "      <th>30</th>\n",
       "      <td>Kitchener</td>\n",
       "      <td>0.749900</td>\n",
       "      <td>297</td>\n",
       "    </tr>\n",
       "  </tbody>\n",
       "</table>\n",
       "</div>"
      ],
      "text/plain": [
       "                     region  Median price in million  No. of listing\n",
       "0                     King                  2.969000              56\n",
       "1                  Caledon                  1.899000             132\n",
       "2                 Oakville                  1.799450             422\n",
       "3            Richmond Hill                  1.698500             382\n",
       "4         East Gwillimbury                  1.688500              92\n",
       "5                   Aurora                  1.688000             130\n",
       "6   Whitchurch-Stouffville                  1.499000              98\n",
       "7                  Markham                  1.399450             482\n",
       "8                  Vaughan                  1.399000             478\n",
       "9             Halton Hills                  1.397000              80\n",
       "10                Uxbridge                  1.314000              18\n",
       "11                  Milton                  1.299900             215\n",
       "12               Newmarket                  1.299000             139\n",
       "13                Brampton                  1.199000             597\n",
       "14                  Scugog                  1.174900              16\n",
       "15              Burlington                  1.149900             306\n",
       "16                  Whitby                  1.099000             130\n",
       "17               Pickering                  0.999950              84\n",
       "18                    Ajax                  0.999000             114\n",
       "19             Mississauga                  0.999000             579\n",
       "20                Georgina                  0.999000             118\n",
       "21     Scarborough Toronto                  0.988000             414\n",
       "22              Clarington                  0.899999             127\n",
       "23                  Oshawa                  0.899000             234\n",
       "24                   Brock                  0.899000              26\n",
       "25                  Guelph                  0.898988             186\n",
       "26     Old Toronto Toronto                  0.839000             444\n",
       "27               Brantford                  0.799999             131\n",
       "28                Hamilton                  0.799900             579\n",
       "29               Cambridge                  0.799900             163\n",
       "30               Kitchener                  0.749900             297"
      ]
     },
     "execution_count": 20,
     "metadata": {},
     "output_type": "execute_result"
    }
   ],
   "source": [
    "data_grouped_region = data.drop(columns= ['bedrooms', 'bathrooms', 'pricem'])\n",
    "data_grouped_region = (((data_grouped_region.groupby(by = 'region').count()).reset_index()))\n",
    "data_grouped_region.rename(columns= {'price' : 'No. of listing'}, inplace= True)\n",
    "\n",
    "data_median = data.drop(columns= ['bedrooms', 'bathrooms', 'price'])\n",
    "data_median = data_median.groupby(by= 'region').median().reset_index()\n",
    "data_median.rename(columns= {\"pricem\" : \"Median price in million\"}, inplace= True)\n",
    "\n",
    "pd.merge(data_median,data_grouped_region).sort_values(\n",
    "    by = \"Median price in million\", ascending= False\n",
    ").reset_index().drop(columns= \"index\")"
   ]
  },
  {
   "cell_type": "markdown",
   "id": "41f8272c",
   "metadata": {
    "papermill": {
     "duration": 0.017626,
     "end_time": "2022-05-26T21:43:10.081107",
     "exception": false,
     "start_time": "2022-05-26T21:43:10.063481",
     "status": "completed"
    },
    "tags": []
   },
   "source": [
    "Categorize the data into three levels according to pricem."
   ]
  },
  {
   "cell_type": "markdown",
   "id": "53dc4eaf",
   "metadata": {
    "papermill": {
     "duration": 0.016663,
     "end_time": "2022-05-26T21:43:10.114959",
     "exception": false,
     "start_time": "2022-05-26T21:43:10.098296",
     "status": "completed"
    },
    "tags": []
   },
   "source": [
    "Assign a price_scaled 0 to price less than 0.8 million dollars, a price_scaled 1 to the  price between 0.8 to 1.6 million dollars, and a price_scaled 2 to price more than 1.6 million dollars."
   ]
  },
  {
   "cell_type": "code",
   "execution_count": 21,
   "id": "025915e1",
   "metadata": {
    "papermill": {
     "duration": 0.038036,
     "end_time": "2022-05-26T21:43:10.171020",
     "exception": false,
     "start_time": "2022-05-26T21:43:10.132984",
     "status": "completed"
    },
    "tags": []
   },
   "outputs": [
    {
     "data": {
      "text/html": [
       "<div>\n",
       "<style scoped>\n",
       "    .dataframe tbody tr th:only-of-type {\n",
       "        vertical-align: middle;\n",
       "    }\n",
       "\n",
       "    .dataframe tbody tr th {\n",
       "        vertical-align: top;\n",
       "    }\n",
       "\n",
       "    .dataframe thead th {\n",
       "        text-align: right;\n",
       "    }\n",
       "</style>\n",
       "<table border=\"1\" class=\"dataframe\">\n",
       "  <thead>\n",
       "    <tr style=\"text-align: right;\">\n",
       "      <th></th>\n",
       "      <th>price</th>\n",
       "      <th>region</th>\n",
       "      <th>bedrooms</th>\n",
       "      <th>bathrooms</th>\n",
       "      <th>pricem</th>\n",
       "      <th>price_scaled</th>\n",
       "    </tr>\n",
       "  </thead>\n",
       "  <tbody>\n",
       "    <tr>\n",
       "      <th>0</th>\n",
       "      <td>799000</td>\n",
       "      <td>Ajax</td>\n",
       "      <td>3</td>\n",
       "      <td>3</td>\n",
       "      <td>0.799000</td>\n",
       "      <td>0</td>\n",
       "    </tr>\n",
       "    <tr>\n",
       "      <th>1</th>\n",
       "      <td>989000</td>\n",
       "      <td>Ajax</td>\n",
       "      <td>2</td>\n",
       "      <td>1</td>\n",
       "      <td>0.989000</td>\n",
       "      <td>1</td>\n",
       "    </tr>\n",
       "    <tr>\n",
       "      <th>2</th>\n",
       "      <td>999900</td>\n",
       "      <td>Ajax</td>\n",
       "      <td>3</td>\n",
       "      <td>4</td>\n",
       "      <td>0.999900</td>\n",
       "      <td>1</td>\n",
       "    </tr>\n",
       "    <tr>\n",
       "      <th>3</th>\n",
       "      <td>799900</td>\n",
       "      <td>Ajax</td>\n",
       "      <td>3</td>\n",
       "      <td>3</td>\n",
       "      <td>0.799900</td>\n",
       "      <td>0</td>\n",
       "    </tr>\n",
       "    <tr>\n",
       "      <th>4</th>\n",
       "      <td>899999</td>\n",
       "      <td>Ajax</td>\n",
       "      <td>3</td>\n",
       "      <td>3</td>\n",
       "      <td>0.899999</td>\n",
       "      <td>1</td>\n",
       "    </tr>\n",
       "  </tbody>\n",
       "</table>\n",
       "</div>"
      ],
      "text/plain": [
       "    price region  bedrooms  bathrooms    pricem  price_scaled\n",
       "0  799000  Ajax          3          3  0.799000             0\n",
       "1  989000  Ajax          2          1  0.989000             1\n",
       "2  999900  Ajax          3          4  0.999900             1\n",
       "3  799900  Ajax          3          3  0.799900             0\n",
       "4  899999  Ajax          3          3  0.899999             1"
      ]
     },
     "execution_count": 21,
     "metadata": {},
     "output_type": "execute_result"
    }
   ],
   "source": [
    "data['price_scaled'] = 0\n",
    "data.loc[data.pricem < 0.8, 'price_scaled'] = 0\n",
    "data.loc[data.pricem > 0.8, 'price_scaled'] = 1\n",
    "data.loc[data.pricem > 1.6, 'price_scaled'] = 2\n",
    "data.head()"
   ]
  },
  {
   "cell_type": "markdown",
   "id": "f4b96551-97c6-4e5f-a55e-38f292707850",
   "metadata": {},
   "source": [
    "# Model Training and Testing"
   ]
  },
  {
   "cell_type": "code",
   "execution_count": 22,
   "id": "1eb53612",
   "metadata": {
    "papermill": {
     "duration": 0.053601,
     "end_time": "2022-05-26T21:43:10.595051",
     "exception": false,
     "start_time": "2022-05-26T21:43:10.541450",
     "status": "completed"
    },
    "tags": []
   },
   "outputs": [
    {
     "name": "stdout",
     "output_type": "stream",
     "text": [
      "(7269, 33)\n"
     ]
    },
    {
     "data": {
      "text/html": [
       "<div>\n",
       "<style scoped>\n",
       "    .dataframe tbody tr th:only-of-type {\n",
       "        vertical-align: middle;\n",
       "    }\n",
       "\n",
       "    .dataframe tbody tr th {\n",
       "        vertical-align: top;\n",
       "    }\n",
       "\n",
       "    .dataframe thead th {\n",
       "        text-align: right;\n",
       "    }\n",
       "</style>\n",
       "<table border=\"1\" class=\"dataframe\">\n",
       "  <thead>\n",
       "    <tr style=\"text-align: right;\">\n",
       "      <th></th>\n",
       "      <th>bedrooms</th>\n",
       "      <th>bathrooms</th>\n",
       "      <th>region_Ajax</th>\n",
       "      <th>region_Aurora</th>\n",
       "      <th>region_Brampton</th>\n",
       "      <th>region_Brantford</th>\n",
       "      <th>region_Brock</th>\n",
       "      <th>region_Burlington</th>\n",
       "      <th>region_Caledon</th>\n",
       "      <th>region_Cambridge</th>\n",
       "      <th>...</th>\n",
       "      <th>region_Old Toronto Toronto</th>\n",
       "      <th>region_Oshawa</th>\n",
       "      <th>region_Pickering</th>\n",
       "      <th>region_Richmond Hill</th>\n",
       "      <th>region_Scarborough Toronto</th>\n",
       "      <th>region_Scugog</th>\n",
       "      <th>region_Uxbridge</th>\n",
       "      <th>region_Vaughan</th>\n",
       "      <th>region_Whitby</th>\n",
       "      <th>region_Whitchurch-Stouffville</th>\n",
       "    </tr>\n",
       "  </thead>\n",
       "  <tbody>\n",
       "    <tr>\n",
       "      <th>0</th>\n",
       "      <td>3</td>\n",
       "      <td>3</td>\n",
       "      <td>1</td>\n",
       "      <td>0</td>\n",
       "      <td>0</td>\n",
       "      <td>0</td>\n",
       "      <td>0</td>\n",
       "      <td>0</td>\n",
       "      <td>0</td>\n",
       "      <td>0</td>\n",
       "      <td>...</td>\n",
       "      <td>0</td>\n",
       "      <td>0</td>\n",
       "      <td>0</td>\n",
       "      <td>0</td>\n",
       "      <td>0</td>\n",
       "      <td>0</td>\n",
       "      <td>0</td>\n",
       "      <td>0</td>\n",
       "      <td>0</td>\n",
       "      <td>0</td>\n",
       "    </tr>\n",
       "    <tr>\n",
       "      <th>1</th>\n",
       "      <td>2</td>\n",
       "      <td>1</td>\n",
       "      <td>1</td>\n",
       "      <td>0</td>\n",
       "      <td>0</td>\n",
       "      <td>0</td>\n",
       "      <td>0</td>\n",
       "      <td>0</td>\n",
       "      <td>0</td>\n",
       "      <td>0</td>\n",
       "      <td>...</td>\n",
       "      <td>0</td>\n",
       "      <td>0</td>\n",
       "      <td>0</td>\n",
       "      <td>0</td>\n",
       "      <td>0</td>\n",
       "      <td>0</td>\n",
       "      <td>0</td>\n",
       "      <td>0</td>\n",
       "      <td>0</td>\n",
       "      <td>0</td>\n",
       "    </tr>\n",
       "    <tr>\n",
       "      <th>2</th>\n",
       "      <td>3</td>\n",
       "      <td>4</td>\n",
       "      <td>1</td>\n",
       "      <td>0</td>\n",
       "      <td>0</td>\n",
       "      <td>0</td>\n",
       "      <td>0</td>\n",
       "      <td>0</td>\n",
       "      <td>0</td>\n",
       "      <td>0</td>\n",
       "      <td>...</td>\n",
       "      <td>0</td>\n",
       "      <td>0</td>\n",
       "      <td>0</td>\n",
       "      <td>0</td>\n",
       "      <td>0</td>\n",
       "      <td>0</td>\n",
       "      <td>0</td>\n",
       "      <td>0</td>\n",
       "      <td>0</td>\n",
       "      <td>0</td>\n",
       "    </tr>\n",
       "    <tr>\n",
       "      <th>3</th>\n",
       "      <td>3</td>\n",
       "      <td>3</td>\n",
       "      <td>1</td>\n",
       "      <td>0</td>\n",
       "      <td>0</td>\n",
       "      <td>0</td>\n",
       "      <td>0</td>\n",
       "      <td>0</td>\n",
       "      <td>0</td>\n",
       "      <td>0</td>\n",
       "      <td>...</td>\n",
       "      <td>0</td>\n",
       "      <td>0</td>\n",
       "      <td>0</td>\n",
       "      <td>0</td>\n",
       "      <td>0</td>\n",
       "      <td>0</td>\n",
       "      <td>0</td>\n",
       "      <td>0</td>\n",
       "      <td>0</td>\n",
       "      <td>0</td>\n",
       "    </tr>\n",
       "    <tr>\n",
       "      <th>4</th>\n",
       "      <td>3</td>\n",
       "      <td>3</td>\n",
       "      <td>1</td>\n",
       "      <td>0</td>\n",
       "      <td>0</td>\n",
       "      <td>0</td>\n",
       "      <td>0</td>\n",
       "      <td>0</td>\n",
       "      <td>0</td>\n",
       "      <td>0</td>\n",
       "      <td>...</td>\n",
       "      <td>0</td>\n",
       "      <td>0</td>\n",
       "      <td>0</td>\n",
       "      <td>0</td>\n",
       "      <td>0</td>\n",
       "      <td>0</td>\n",
       "      <td>0</td>\n",
       "      <td>0</td>\n",
       "      <td>0</td>\n",
       "      <td>0</td>\n",
       "    </tr>\n",
       "  </tbody>\n",
       "</table>\n",
       "<p>5 rows × 33 columns</p>\n",
       "</div>"
      ],
      "text/plain": [
       "   bedrooms  bathrooms  region_Ajax   region_Aurora   region_Brampton   \\\n",
       "0         3          3             1               0                 0   \n",
       "1         2          1             1               0                 0   \n",
       "2         3          4             1               0                 0   \n",
       "3         3          3             1               0                 0   \n",
       "4         3          3             1               0                 0   \n",
       "\n",
       "   region_Brantford   region_Brock   region_Burlington   region_Caledon   \\\n",
       "0                  0              0                   0                0   \n",
       "1                  0              0                   0                0   \n",
       "2                  0              0                   0                0   \n",
       "3                  0              0                   0                0   \n",
       "4                  0              0                   0                0   \n",
       "\n",
       "   region_Cambridge   ...  region_Old Toronto Toronto   region_Oshawa   \\\n",
       "0                  0  ...                            0               0   \n",
       "1                  0  ...                            0               0   \n",
       "2                  0  ...                            0               0   \n",
       "3                  0  ...                            0               0   \n",
       "4                  0  ...                            0               0   \n",
       "\n",
       "   region_Pickering   region_Richmond Hill   region_Scarborough Toronto   \\\n",
       "0                  0                      0                            0   \n",
       "1                  0                      0                            0   \n",
       "2                  0                      0                            0   \n",
       "3                  0                      0                            0   \n",
       "4                  0                      0                            0   \n",
       "\n",
       "   region_Scugog   region_Uxbridge   region_Vaughan   region_Whitby   \\\n",
       "0               0                 0                0               0   \n",
       "1               0                 0                0               0   \n",
       "2               0                 0                0               0   \n",
       "3               0                 0                0               0   \n",
       "4               0                 0                0               0   \n",
       "\n",
       "   region_Whitchurch-Stouffville   \n",
       "0                               0  \n",
       "1                               0  \n",
       "2                               0  \n",
       "3                               0  \n",
       "4                               0  \n",
       "\n",
       "[5 rows x 33 columns]"
      ]
     },
     "execution_count": 22,
     "metadata": {},
     "output_type": "execute_result"
    }
   ],
   "source": [
    "# transforming data price_scaled can be predicted using region too\n",
    "X = pd.get_dummies(data.drop(columns= [\"price\", \"pricem\", \"price_scaled\"]), prefix= 'region')\n",
    "Y = data.price_scaled\n",
    "print(X.shape)\n",
    "X.head()"
   ]
  },
  {
   "cell_type": "markdown",
   "id": "ead3913a",
   "metadata": {
    "papermill": {
     "duration": 0.018548,
     "end_time": "2022-05-26T21:43:10.632806",
     "exception": false,
     "start_time": "2022-05-26T21:43:10.614258",
     "status": "completed"
    },
    "tags": []
   },
   "source": [
    "Split data into training and testing datasets."
   ]
  },
  {
   "cell_type": "code",
   "execution_count": 23,
   "id": "d60eaaf3",
   "metadata": {
    "papermill": {
     "duration": 0.032203,
     "end_time": "2022-05-26T21:43:10.683856",
     "exception": false,
     "start_time": "2022-05-26T21:43:10.651653",
     "status": "completed"
    },
    "tags": []
   },
   "outputs": [],
   "source": [
    "X_train, X_test, Y_train, Y_test  = train_test_split(X, Y, train_size= 0.9, random_state= 1)"
   ]
  },
  {
   "cell_type": "code",
   "execution_count": 24,
   "id": "adc0ca20",
   "metadata": {
    "papermill": {
     "duration": 0.029854,
     "end_time": "2022-05-26T21:43:10.853380",
     "exception": false,
     "start_time": "2022-05-26T21:43:10.823526",
     "status": "completed"
    },
    "tags": []
   },
   "outputs": [
    {
     "name": "stdout",
     "output_type": "stream",
     "text": [
      "(6542, 33)\n",
      "(727, 33)\n",
      "(6542,)\n",
      "(727,)\n"
     ]
    }
   ],
   "source": [
    "print(X_train.shape)\n",
    "print(X_test.shape)\n",
    "print(Y_train.shape)\n",
    "print(Y_test.shape)"
   ]
  },
  {
   "cell_type": "markdown",
   "id": "896ec63d-a6fc-4fe6-ae7b-61e2fddb92d7",
   "metadata": {},
   "source": [
    "# Random Forest Model."
   ]
  },
  {
   "cell_type": "code",
   "execution_count": 25,
   "id": "1b4c1c78-5afd-4626-b2a8-a4c89fc4991c",
   "metadata": {
    "tags": []
   },
   "outputs": [
    {
     "data": {
      "text/plain": [
       "0.7441540577716643"
      ]
     },
     "execution_count": 25,
     "metadata": {},
     "output_type": "execute_result"
    }
   ],
   "source": [
    "rf = RandomForestClassifier(random_state= 1)\n",
    "rf.fit(X_train, Y_train)\n",
    "y_pred_rfc = rf.predict(X_test)\n",
    "accuracy_score(rf.predict(X_test), Y_test)"
   ]
  },
  {
   "cell_type": "markdown",
   "id": "5a7873c6",
   "metadata": {
    "papermill": {
     "duration": 0.020452,
     "end_time": "2022-05-26T21:43:11.422311",
     "exception": false,
     "start_time": "2022-05-26T21:43:11.401859",
     "status": "completed"
    },
    "tags": []
   },
   "source": [
    "# K-Nearest Neighbors Model."
   ]
  },
  {
   "cell_type": "code",
   "execution_count": 26,
   "id": "b0eaa5d1",
   "metadata": {
    "papermill": {
     "duration": 0.037838,
     "end_time": "2022-05-26T21:43:11.480954",
     "exception": false,
     "start_time": "2022-05-26T21:43:11.443116",
     "status": "completed"
    },
    "tags": []
   },
   "outputs": [
    {
     "name": "stderr",
     "output_type": "stream",
     "text": [
      "C:\\Users\\shres\\AppData\\Roaming\\Python\\Python311\\site-packages\\sklearn\\base.py:439: UserWarning: X does not have valid feature names, but KNeighborsClassifier was fitted with feature names\n",
      "  warnings.warn(\n"
     ]
    },
    {
     "data": {
      "text/plain": [
       "0.7166437414030261"
      ]
     },
     "execution_count": 26,
     "metadata": {},
     "output_type": "execute_result"
    }
   ],
   "source": [
    "from sklearn.neighbors import KNeighborsClassifier\n",
    "knn = KNeighborsClassifier()\n",
    "knn.fit(X_train, Y_train)\n",
    "accuracy_score(Y_test, knn.predict(X_test.values))"
   ]
  },
  {
   "cell_type": "markdown",
   "id": "5bfeb4e2",
   "metadata": {
    "papermill": {
     "duration": 0.020386,
     "end_time": "2022-05-26T21:43:11.859447",
     "exception": false,
     "start_time": "2022-05-26T21:43:11.839061",
     "status": "completed"
    },
    "tags": []
   },
   "source": [
    "GridSearchCV is used for hyperparameter tuning for better accuracy."
   ]
  },
  {
   "cell_type": "code",
   "execution_count": null,
   "id": "105f2006",
   "metadata": {
    "papermill": {
     "duration": 224.764387,
     "end_time": "2022-05-26T21:46:56.644464",
     "exception": false,
     "start_time": "2022-05-26T21:43:11.880077",
     "status": "completed"
    },
    "tags": []
   },
   "outputs": [],
   "source": [
    "t1 = time.time()\n",
    "parameters = {\n",
    "    'n_neighbors' : range(1,30),\n",
    "    'weights' : ('uniform', 'distance')\n",
    "}\n",
    "gs = GridSearchCV(\n",
    "    estimator= knn,\n",
    "    param_grid= parameters,\n",
    "    cv = 5,\n",
    "    return_train_score= True\n",
    "    )\n",
    "gs.fit(X_train.values, Y_train)"
   ]
  },
  {
   "cell_type": "markdown",
   "id": "a83abb1c",
   "metadata": {
    "papermill": {
     "duration": 0.021593,
     "end_time": "2022-05-26T21:46:56.737419",
     "exception": false,
     "start_time": "2022-05-26T21:46:56.715826",
     "status": "completed"
    },
    "tags": []
   },
   "source": [
    "Best score obtained "
   ]
  },
  {
   "cell_type": "code",
   "execution_count": null,
   "id": "caf02bb7",
   "metadata": {
    "papermill": {
     "duration": 0.032477,
     "end_time": "2022-05-26T21:46:56.792565",
     "exception": false,
     "start_time": "2022-05-26T21:46:56.760088",
     "status": "completed"
    },
    "tags": []
   },
   "outputs": [],
   "source": [
    "gs.best_score_"
   ]
  },
  {
   "cell_type": "markdown",
   "id": "dec95e0b",
   "metadata": {
    "papermill": {
     "duration": 0.020793,
     "end_time": "2022-05-26T21:46:56.834300",
     "exception": false,
     "start_time": "2022-05-26T21:46:56.813507",
     "status": "completed"
    },
    "tags": []
   },
   "source": [
    "View best parameters"
   ]
  },
  {
   "cell_type": "code",
   "execution_count": null,
   "id": "316c078e",
   "metadata": {
    "papermill": {
     "duration": 0.031171,
     "end_time": "2022-05-26T21:46:56.886605",
     "exception": false,
     "start_time": "2022-05-26T21:46:56.855434",
     "status": "completed"
    },
    "tags": []
   },
   "outputs": [],
   "source": [
    "gs.best_params_"
   ]
  },
  {
   "cell_type": "markdown",
   "id": "a223618f-505d-4433-8913-cc2dcb84b5a9",
   "metadata": {
    "tags": []
   },
   "source": [
    "View mean test and train scores"
   ]
  },
  {
   "cell_type": "code",
   "execution_count": null,
   "id": "26bcc04a",
   "metadata": {
    "papermill": {
     "duration": 0.063233,
     "end_time": "2022-05-26T21:46:57.028040",
     "exception": false,
     "start_time": "2022-05-26T21:46:56.964807",
     "status": "completed"
    },
    "tags": []
   },
   "outputs": [],
   "source": [
    "gs_results  = pd.DataFrame(gs_knn.cv_results_)\n",
    "gs_results = gs_results[['mean_test_score', 'mean_train_score', 'params']]\n",
    "gs_results.head()"
   ]
  },
  {
   "cell_type": "markdown",
   "id": "14a88a67",
   "metadata": {
    "papermill": {
     "duration": 0.02252,
     "end_time": "2022-05-26T21:46:57.074147",
     "exception": false,
     "start_time": "2022-05-26T21:46:57.051627",
     "status": "completed"
    },
    "tags": []
   },
   "source": [
    "Mean value for testing and training score after hyperparameter cross validation."
   ]
  },
  {
   "cell_type": "code",
   "execution_count": null,
   "id": "38703db4",
   "metadata": {
    "papermill": {
     "duration": 0.03658,
     "end_time": "2022-05-26T21:46:57.132925",
     "exception": false,
     "start_time": "2022-05-26T21:46:57.096345",
     "status": "completed"
    },
    "tags": []
   },
   "outputs": [],
   "source": [
    "gs_results.loc[gs_results.params == gs_knn.best_params_]"
   ]
  },
  {
   "cell_type": "markdown",
   "id": "83178361",
   "metadata": {
    "papermill": {
     "duration": 0.022593,
     "end_time": "2022-05-26T21:46:57.177960",
     "exception": false,
     "start_time": "2022-05-26T21:46:57.155367",
     "status": "completed"
    },
    "tags": []
   },
   "source": [
    "K-Nearest Neighbors model accuracy with optimized parameters."
   ]
  },
  {
   "cell_type": "code",
   "execution_count": null,
   "id": "fc4f9fa6",
   "metadata": {
    "papermill": {
     "duration": 0.310128,
     "end_time": "2022-05-26T21:46:57.510456",
     "exception": false,
     "start_time": "2022-05-26T21:46:57.200328",
     "status": "completed"
    },
    "tags": []
   },
   "outputs": [],
   "source": [
    "knn_optimized = KNeighborsClassifier(\n",
    "    n_neighbors= gs_knn.best_params_['n_neighbors'],\n",
    "    weights= gs_knn.best_params_['weights']\n",
    ")\n",
    "\n",
    "knn_optimized.fit(X_train, Y_train)\n",
    "y_optimized = knn_optimized.predict(X_test.values)\n",
    "accuracy_score(y_optimized, Y_test)"
   ]
  },
  {
   "cell_type": "code",
   "execution_count": null,
   "id": "6855045b",
   "metadata": {
    "papermill": {
     "duration": 0.336848,
     "end_time": "2022-05-26T21:47:07.844651",
     "exception": false,
     "start_time": "2022-05-26T21:47:07.507803",
     "status": "completed"
    },
    "tags": []
   },
   "outputs": [],
   "source": [
    "pd.DataFrame({\n",
    "    \"Model\" : [\"K-Nearest Neighbors\", \"Random Forest\"],\n",
    "    \"Test split accuracy\" : [accuracy_score(knn_optimized.predict(X_test.values), Y_test), accuracy_score(rf.predict(X_test), Y_test)]\n",
    "})"
   ]
  },
  {
   "cell_type": "markdown",
   "id": "b5ec0400-a16e-4ef5-86e9-b0f7591a3068",
   "metadata": {},
   "source": [
    "# Data Visualization"
   ]
  },
  {
   "cell_type": "markdown",
   "id": "f96cabdc-87fe-4be9-b624-62e8d19f8235",
   "metadata": {
    "tags": []
   },
   "source": [
    "barchart betweem price_scaled and bedrooms"
   ]
  },
  {
   "cell_type": "code",
   "execution_count": null,
   "id": "a4cd3bd1-3f14-49dc-81d1-1ebc0aa7f851",
   "metadata": {
    "tags": []
   },
   "outputs": [],
   "source": [
    "color = (0.2, # redness\n",
    "         0.4, # greenness\n",
    "         0.2, # blueness\n",
    "         0.6 # transparency\n",
    "         ) \n",
    "plt.bar(data['price_scaled'], data['bedrooms'], align='center',color=color)\n",
    "\n",
    "plt.xlabel('price_scaled') \n",
    "plt.ylabel('bedrooms')\n",
    "plt.title('Bar Chart')\n",
    "plt.show()"
   ]
  },
  {
   "cell_type": "markdown",
   "id": "8acdf925-d4be-4faf-9546-1af9161bf38e",
   "metadata": {},
   "source": [
    "barchart betweem price_scaled and bathrooms"
   ]
  },
  {
   "cell_type": "code",
   "execution_count": null,
   "id": "bc27e21e-b161-4346-80fe-eba4bc8a76e0",
   "metadata": {
    "tags": []
   },
   "outputs": [],
   "source": [
    "\n",
    "plt.bar(data['price_scaled'], data['bathrooms'], align='center')\n",
    "plt.xlabel('price_scaled') \n",
    "plt.ylabel('bathrooms')\n",
    "plt.title('Bar Chart')\n",
    "plt.show()"
   ]
  },
  {
   "cell_type": "markdown",
   "id": "0d81084f-e47b-443d-9753-59fb97534226",
   "metadata": {},
   "source": [
    "# Utilization of Analysis Results"
   ]
  },
  {
   "cell_type": "markdown",
   "id": "eb517afc-b1bd-4e05-8d8e-36cb4dba3b51",
   "metadata": {
    "tags": []
   },
   "source": [
    "Confusion Matrix for optimized K-Nearest Neighbors model."
   ]
  },
  {
   "cell_type": "code",
   "execution_count": null,
   "id": "4004a600-8987-4d7d-a1a4-f364ef069dff",
   "metadata": {
    "tags": []
   },
   "outputs": [],
   "source": [
    "sns.set(font_scale= 1.5)\n",
    "plt.figure(figsize= (6,4))\n",
    "h =sns.heatmap(confusion_matrix(y_true= Y_test, y_pred= y_optimized), annot= True, cmap= 'Greens', fmt = 'g')\n",
    "plt.xlabel('Predicted price_scaled')\n",
    "plt.ylabel('True price_scaled')\n",
    "plt.title('KNeighborsClassifier');"
   ]
  },
  {
   "cell_type": "markdown",
   "id": "db2935b0-c1c7-4b17-bfc0-801adb89cdfa",
   "metadata": {
    "tags": []
   },
   "source": [
    "Confusion matrix for the Random forest model."
   ]
  },
  {
   "cell_type": "code",
   "execution_count": null,
   "id": "229b5507-4478-4e26-876f-6cfd654af456",
   "metadata": {
    "tags": []
   },
   "outputs": [],
   "source": [
    "sns.set(font_scale= 1.5)\n",
    "plt.figure(figsize= (6,4))\n",
    "sns.heatmap(confusion_matrix(y_true= Y_test, y_pred= y_pred_rfc), annot= True, cmap= 'Greens', fmt = 'g')\n",
    "plt.xlabel('Predicted price_scaled')\n",
    "plt.ylabel('True price_scaled')\n",
    "plt.title('RandomForestClassifier')"
   ]
  },
  {
   "cell_type": "code",
   "execution_count": null,
   "id": "e53276d8-81cd-4589-aa38-c8f9520a8cf2",
   "metadata": {},
   "outputs": [],
   "source": []
  }
 ],
 "metadata": {
  "kernelspec": {
   "display_name": "Python 3 (ipykernel)",
   "language": "python",
   "name": "python3"
  },
  "language_info": {
   "codemirror_mode": {
    "name": "ipython",
    "version": 3
   },
   "file_extension": ".py",
   "mimetype": "text/x-python",
   "name": "python",
   "nbconvert_exporter": "python",
   "pygments_lexer": "ipython3",
   "version": "3.11.4"
  },
  "papermill": {
   "default_parameters": {},
   "duration": 268.424562,
   "end_time": "2022-05-26T21:47:08.810734",
   "environment_variables": {},
   "exception": null,
   "input_path": "__notebook__.ipynb",
   "output_path": "__notebook__.ipynb",
   "parameters": {},
   "start_time": "2022-05-26T21:42:40.386172",
   "version": "2.3.4"
  }
 },
 "nbformat": 4,
 "nbformat_minor": 5
}
